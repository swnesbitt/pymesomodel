{
 "cells": [
  {
   "cell_type": "markdown",
   "metadata": {},
   "source": [
    "# WRF plotting example\n",
    "\n",
    "Adapted from an iPython notebook created by Dan Rothenberg, MIT PAOC\n",
    "\n",
    "This is a simple example for plotting WRF output using several standard Python libraries:\n",
    "\n",
    "1. [xarray](http://xarray.pydata.org/en/stable/) - netCDF reading and data manipulation (formerly `xray`; you may want to do `conda remove xray` to remove the old outdated version)\n",
    "2. [matplotlib](http://matplotlib.org/) - Python basic plotting library\n",
    "\n",
    "If you're already using Anaconda, then the easiest way to install these will be to simply go to your command line and execute:\n",
    "\n",
    "```bash\n",
    "pip install xarray\n",
    "```\n",
    "\n",
    "Another library to consider would be [iris](http://scitools.org.uk/iris/docs/latest/index.html) for reading in/handling netCDF data.\n",
    "\n",
    "We will also use `ipywidgets`\n",
    "\n",
    "```bash\n",
    "conda install ipywidgets\n",
    "```\n",
    "\n",
    "Any time you update your python packages, you need to restart the python kernel in the *Kernel* menu above."
   ]
  },
  {
   "cell_type": "markdown",
   "metadata": {},
   "source": [
    "### Reading in data\n",
    "\n",
    "Using `xarray`, it's trivial to read in a netCDF dataset. Let's take the first WRF run you did.  Make sure the path is pointing to your run."
   ]
  },
  {
   "cell_type": "code",
   "execution_count": null,
   "metadata": {
    "collapsed": false
   },
   "outputs": [],
   "source": [
    "%pylab inline\n",
    "import xarray as xr\n",
    "\n",
    "dataset = xr.open_dataset(\"/oasis/scratch/snesbitt/temp_project/WRFV3/test/em_squall2d_x/wrfout_d01_0001-01-01_00:00:00\")"
   ]
  },
  {
   "cell_type": "markdown",
   "metadata": {},
   "source": [
    "Normally, you'd use `ncdump -h squall_slice.nc` from the command line to inspect this file, but we can do something equivalent using xray."
   ]
  },
  {
   "cell_type": "code",
   "execution_count": null,
   "metadata": {
    "collapsed": false,
    "scrolled": false
   },
   "outputs": [],
   "source": [
    "print(dataset)"
   ]
  },
  {
   "cell_type": "markdown",
   "metadata": {},
   "source": [
    "We can look into more detail at a given field, too, to see what metadata is attached to it. Note that the default container that `xray` provides, the **Dataset**, implements the standard dictionary interface, so it's easy to grab data fields."
   ]
  },
  {
   "cell_type": "code",
   "execution_count": null,
   "metadata": {
    "collapsed": false
   },
   "outputs": [],
   "source": [
    "rain = dataset['RAINNC']\n",
    "print(rain)"
   ]
  },
  {
   "cell_type": "markdown",
   "metadata": {},
   "source": [
    "We can make a simple plot of surface temperature:"
   ]
  },
  {
   "cell_type": "code",
   "execution_count": null,
   "metadata": {
    "collapsed": false
   },
   "outputs": [],
   "source": [
    "fig=plt.figure()\n",
    "ax = fig.add_subplot(111)\n",
    "ax.plot(dataset['U'].values[0,0,0,:])\n"
   ]
  },
  {
   "cell_type": "markdown",
   "metadata": {},
   "source": [
    "To illustrate simple data manipulation, let's compute total rain accumulation.  We will sum the amount for each model column in the `x` and `y` dimension, and plot against `t`. This will give us an idea of the evolution of the convection in the domain. \n",
    "\n",
    "Rather than use giant loops over all the model dimensions, we'll use the convenience tools exposed by `xarray`. See [here](http://xarray.pydata.org/en/stable/data-structures.html) for more details."
   ]
  },
  {
   "cell_type": "code",
   "execution_count": null,
   "metadata": {
    "collapsed": false
   },
   "outputs": [],
   "source": [
    "total_rain = (rain.load().mean(dim=['south_north'], keep_attrs=True).sum(dim=['west_east'], keep_attrs=True))"
   ]
  },
  {
   "cell_type": "markdown",
   "metadata": {},
   "source": [
    "Plotting simple data like this is very straightforward, but as a reminder:"
   ]
  },
  {
   "cell_type": "code",
   "execution_count": null,
   "metadata": {
    "collapsed": false
   },
   "outputs": [],
   "source": [
    "fig = plt.figure()\n",
    "ax = fig.add_subplot(111)\n",
    "\n",
    "lines = ax.plot(total_rain, color='k', lw=2)\n",
    "ax.set_xlabel('west_east')\n",
    "ax.set_ylabel(\"Total rain ({})\".format(total_rain.units))"
   ]
  },
  {
   "cell_type": "markdown",
   "metadata": {
    "collapsed": false
   },
   "source": [
    "Let's plot a cross section of potential temperature.  WRF stores some variables in its own format, so we must convert them to physical values.  Here are temperature and pressure."
   ]
  },
  {
   "cell_type": "code",
   "execution_count": null,
   "metadata": {
    "collapsed": true
   },
   "outputs": [],
   "source": [
    "pres = (dataset['P'] + dataset['PB']) * 0.01\n",
    "pres.attrs['long_name'] = 'Total pressure'\n",
    "pres.attrs['units'] = 'mb'\n",
    "\n",
    "temp=dataset['T'] + 300.\n",
    "temp.attrs['long_name'] = 'Potential Temperature'\n",
    "temp.attrs['units'] = 'K'"
   ]
  },
  {
   "cell_type": "code",
   "execution_count": null,
   "metadata": {
    "collapsed": false
   },
   "outputs": [],
   "source": [
    "itime=5\n",
    "temp_slice = (temp.load()\n",
    "                       .isel(south_north=0,Time=itime,bottom_top=slice(0,40))\n",
    "                       .squeeze())"
   ]
  },
  {
   "cell_type": "code",
   "execution_count": null,
   "metadata": {
    "collapsed": false
   },
   "outputs": [],
   "source": [
    "from matplotlib.colors import BoundaryNorm\n",
    "\n",
    "levels = 295.+.5*np.arange(100)\n",
    "cmap = plt.get_cmap(\"viridis\")\n",
    "\n",
    "fig = plt.figure(figsize=(5., 4.))\n",
    "ax = fig.add_subplot(111)\n",
    "ax.set_xlabel('west_east')\n",
    "ax.set_ylabel('bottom_top')\n",
    "ax.set_title(temp.attrs['long_name']+' Time ='+str(itime))\n",
    "\n",
    "cf = ax.contourf(temp_slice, levels=levels,\n",
    "                 cmap=cmap)\n",
    "cb = plt.colorbar(cf, ax=ax, orientation='horizontal')"
   ]
  },
  {
   "cell_type": "markdown",
   "metadata": {},
   "source": [
    "---\n",
    "\n",
    "That's the basic example. Suppose, now, we wanted to visualize contours of liquid water content in a 2D slice of the storm? That's easy to do using the aggregation features from `xray` and the same basic plotting interface."
   ]
  },
  {
   "cell_type": "code",
   "execution_count": null,
   "metadata": {
    "collapsed": false
   },
   "outputs": [],
   "source": [
    "from matplotlib.colors import BoundaryNorm\n",
    "\n",
    "qliquid=dataset['QRAIN']+dataset['QCLOUD']\n",
    "qliquid.attrs['long_name'] = \"Total liquid water mixing ratio\"\n",
    "qliquid.attrs['units'] = \"kg/kg\"\n",
    "\n",
    "itime=5\n",
    "qliquid_slice = (qliquid.load()\n",
    "                       .isel(south_north=0,Time=itime,bottom_top=slice(0,40))\n",
    "                       .squeeze())\n",
    "\n",
    "levels = [0, 1e-5, 2e-5, 5e-5, 1e-4, 2e-4, 5e-4, 1e-3, 2e-3, 5e-3,1e-2]\n",
    "cmap = plt.get_cmap(\"Oranges\")\n",
    "norm = BoundaryNorm(levels, ncolors=cmap.N, clip=True)\n",
    "\n",
    "fig = plt.figure(figsize=(5., 4.))\n",
    "ax = fig.add_subplot(111)\n",
    "\n",
    "cf = ax.contourf(qliquid_slice, \n",
    "                 levels=levels, cmap=cmap, norm=norm)\n",
    "ax.set_xlabel('west_east')\n",
    "ax.set_ylabel('bottom_top')\n",
    "ax.set_title(qliquid.attrs['long_name']+' Time ='+str(itime))\n",
    "\n",
    "cb = plt.colorbar(cf, ax=ax, orientation='horizontal', format=\"%1.0e\")"
   ]
  },
  {
   "cell_type": "code",
   "execution_count": null,
   "metadata": {
    "collapsed": false
   },
   "outputs": [],
   "source": [
    "from ipywidgets import interact\n",
    "\n",
    "def browse_images(qliquid):\n",
    "    t = 25\n",
    "    def plot_qvapor(i):\n",
    "        qliquid_slice = (qliquid.load()\n",
    "                           .isel(south_north=0,Time=i,bottom_top=slice(0,40))\n",
    "                           .squeeze())\n",
    "\n",
    "        levels = [0, 1e-5, 2e-5, 5e-5, 1e-4, 2e-4, 5e-4, 1e-3, 2e-3, 5e-3,1e-2]\n",
    "        cmap = plt.get_cmap(\"Oranges\")\n",
    "        norm = BoundaryNorm(levels, ncolors=cmap.N, clip=True)\n",
    "\n",
    "        fig = plt.figure(figsize=(5., 4.))\n",
    "        ax = fig.add_subplot(111)\n",
    "\n",
    "        cf = ax.contourf(qliquid_slice, \n",
    "                         levels=levels, cmap=cmap, norm=norm)\n",
    "        ax.set_xlabel('west_east')\n",
    "        ax.set_ylabel('bottom_top')\n",
    "        ax.set_title(qliquid.attrs['long_name']+' Time ='+str(i))\n",
    "\n",
    "        cb = plt.colorbar(cf, ax=ax, orientation='horizontal', format=\"%1.0e\")\n",
    "    \n",
    "    interact(plot_qvapor, i=(0,t-1))\n",
    "    "
   ]
  },
  {
   "cell_type": "code",
   "execution_count": null,
   "metadata": {
    "collapsed": false
   },
   "outputs": [],
   "source": [
    "browse_images(qliquid)"
   ]
  },
  {
   "cell_type": "markdown",
   "metadata": {},
   "source": [
    "Let's add one for vertical velocity:"
   ]
  },
  {
   "cell_type": "code",
   "execution_count": null,
   "metadata": {
    "collapsed": true
   },
   "outputs": [],
   "source": []
  }
 ],
 "metadata": {
  "kernelspec": {
   "display_name": "Python 2",
   "language": "python",
   "name": "python2"
  },
  "language_info": {
   "codemirror_mode": {
    "name": "ipython",
    "version": 2
   },
   "file_extension": ".py",
   "mimetype": "text/x-python",
   "name": "python",
   "nbconvert_exporter": "python",
   "pygments_lexer": "ipython2",
   "version": "2.7.11"
  }
 },
 "nbformat": 4,
 "nbformat_minor": 0
}
