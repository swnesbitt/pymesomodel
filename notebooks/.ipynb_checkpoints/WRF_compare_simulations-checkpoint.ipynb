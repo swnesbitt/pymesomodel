{
 "cells": [
  {
   "cell_type": "markdown",
   "metadata": {},
   "source": [
    "# Doing #science with WRF"
   ]
  },
  {
   "cell_type": "markdown",
   "metadata": {},
   "source": [
    "### Introduction\n",
    "\n",
    "In the last exercise, we learned how to read in WRF data, and how make some basic visualizations (time series, vertical cross sections).  Now, let's actually do some science.\n",
    "\n",
    "For this exercise we will compare two WRF runs quantitatively.  In this exercise, I will use the default run that we set up last week as a control run.  It has 250 m grid spacing in all directions.  The science question that we will address is: \"What impact does higher resolution have on simulating the convection?\"  Do address this question, we will run a simulation varied resolution to see what the impacts are.  What are some hypotheses that you might test with this sort of experiment?\n",
    "\n",
    "This [paper](http://journals.ametsoc.org/doi/abs/10.1175/1520-0493%282003%29131%3C2394%3ARRFTSO%3E2.0.CO%3B2) can be used as a guide.\n",
    "\n",
    "I made some modifications to the namelist to accomplish this higher resolution run.  See\n",
    "\n",
    "`/oasis/scratch/snesbitt/temp_project/WRFV3/test/em_squall2d_x_100m`\n",
    "\n",
    "For next class, I would like you to prepare simulations at 10 km, 4 km, 1 km, 250 m (control), and 100 m *horizontal* and *vertical* grid spacing.  Keep all other physical parameterizations and timing the same.  You will have to scale the timestep from a base of 2 s at 250 m.  You will have to use the fractional time step control to perform this scaling.\n",
    "\n",
    "Take a look at the initialization code to make sure that the initial conditions work across resolutions.  The fortran code is here:\n",
    "\n",
    "`WRFV3/dyn_em/module_initialize_squall2d_x.F`\n",
    "\n",
    "---\n",
    "\n",
    "### Plot some comparisons"
   ]
  },
  {
   "cell_type": "code",
   "execution_count": null,
   "metadata": {
    "collapsed": false
   },
   "outputs": [],
   "source": [
    "%pylab inline\n",
    "import xarray as xr\n",
    "\n",
    "dataset_ctl = xr.open_dataset(\"/oasis/scratch/snesbitt/temp_project/WRFV3/test/em_squall2d_x/wrfout_d01_0001-01-01_00:00:00\")\n",
    "dataset_100m = xr.open_dataset(\"/oasis/scratch/snesbitt/temp_project/WRFV3/test/em_squall2d_x_100m/wrfout_d01_0001-01-01_00:00:00\")"
   ]
  },
  {
   "cell_type": "markdown",
   "metadata": {},
   "source": [
    "Let's take a look at the 100 m output:"
   ]
  },
  {
   "cell_type": "code",
   "execution_count": null,
   "metadata": {
    "collapsed": false,
    "scrolled": false
   },
   "outputs": [],
   "source": [
    "print(dataset_100m)"
   ]
  },
  {
   "cell_type": "markdown",
   "metadata": {},
   "source": [
    "Let's get the total rain for each dataset:"
   ]
  },
  {
   "cell_type": "code",
   "execution_count": null,
   "metadata": {
    "collapsed": false
   },
   "outputs": [],
   "source": [
    "total_rain_ctl = (dataset_ctl['RAINNC'].mean(dim=['south_north'], keep_attrs=True).sum(dim=['west_east'], keep_attrs=True))\n",
    "total_rain_100m = (dataset_100m['RAINNC'].mean(dim=['south_north'], keep_attrs=True).sum(dim=['west_east'], keep_attrs=True))\n"
   ]
  },
  {
   "cell_type": "markdown",
   "metadata": {},
   "source": [
    "Plotting comparisons like this is very straightforward."
   ]
  },
  {
   "cell_type": "code",
   "execution_count": null,
   "metadata": {
    "collapsed": false
   },
   "outputs": [],
   "source": [
    "fig = plt.figure()\n",
    "ax = fig.add_subplot(111)\n",
    "\n",
    "lines = ax.plot(total_rain_ctl.XTIME,total_rain_ctl, color='k', lw=2)\n",
    "lines2 = ax.plot(total_rain_100m.XTIME,total_rain_100m, color='g', lw=2)\n",
    "ax.set_xlabel('time')\n",
    "ax.set_ylabel(\"Total rain ({})\".format(total_rain_ctl.units))"
   ]
  },
  {
   "cell_type": "markdown",
   "metadata": {},
   "source": [
    "It's raining more in the high resolution dataset, but there are more grid points to sum over.  We can normalize the values by dividing by the number of points in the `west_east` dimension."
   ]
  },
  {
   "cell_type": "code",
   "execution_count": null,
   "metadata": {
    "collapsed": false
   },
   "outputs": [],
   "source": [
    "#get sizes of arrays\n",
    "sz_ctl=np.shape(dataset_ctl['RAINNC'])\n",
    "print(sz_ctl)\n",
    "sz_100m=np.shape(dataset_100m['RAINNC'])\n",
    "print(sz_100m)"
   ]
  },
  {
   "cell_type": "markdown",
   "metadata": {},
   "source": [
    "OK, let's use the float of the correct dimension to \"normalize\" for the grid dimension."
   ]
  },
  {
   "cell_type": "code",
   "execution_count": null,
   "metadata": {
    "collapsed": false
   },
   "outputs": [],
   "source": [
    "fig = plt.figure()\n",
    "ax = fig.add_subplot(111)\n",
    "\n",
    "lines = ax.plot(total_rain_ctl.XTIME,total_rain_ctl/float(sz_ctl[2]), color='k', lw=2)\n",
    "lines2 = ax.plot(total_rain_100m.XTIME,total_rain_100m/float(sz_100m[2]), color='g', lw=2)\n",
    "ax.set_xlabel('time')\n",
    "ax.set_ylabel(\"Rain per grid point ({})\".format(total_rain_ctl.units))"
   ]
  },
  {
   "cell_type": "markdown",
   "metadata": {},
   "source": [
    "Now let's look at the statistics of vertical velocity."
   ]
  },
  {
   "cell_type": "code",
   "execution_count": null,
   "metadata": {
    "collapsed": false
   },
   "outputs": [],
   "source": [
    "w_ctl=dataset_ctl['W'].mean(dim=['south_north'], keep_attrs=True)\n",
    "sz=np.shape(w_ctl)\n",
    "print(sz)"
   ]
  },
  {
   "cell_type": "code",
   "execution_count": null,
   "metadata": {
    "collapsed": false
   },
   "outputs": [],
   "source": [
    "#allocate array\n",
    "w_max_t=np.zeros(sz[0])\n",
    "w_min_t=np.zeros_like(w_max_t)\n",
    "w_pct75_t=np.zeros_like(w_max_t)\n",
    "w_pct25_t=np.zeros_like(w_max_t)\n",
    "\n",
    "#loop over elements\n",
    "for t in np.arange(sz[0]):\n",
    "    w_max_t[t]=np.max(w_ctl[t,:,:])\n",
    "    w_min_t[t]=np.min(w_ctl[t,:,:])\n",
    "    w_pct75_t[t]=np.percentile(w_ctl[t,:,:],75.)\n",
    "    w_pct25_t[t]=np.percentile(w_ctl[t,:,:],25.)\n",
    "    \n",
    "print(w_max_t)\n",
    "plt.figure(figsize=(10,8))\n",
    "plt.plot(w_ctl.XTIME,w_max_t)\n",
    "plt.plot(w_ctl.XTIME,w_min_t)\n",
    "plt.plot(w_ctl.XTIME,w_pct75_t)\n",
    "plt.plot(w_ctl.XTIME,w_pct25_t)\n",
    "\n",
    "plt.xlabel('Time')\n",
    "\n",
    "plt.ylabel('{0} ({1})'.format(w_ctl.description,w_ctl.units))\n",
    "plt.legend(['Max','Min','75%','25%'],loc='upper left',prop={'size':10})"
   ]
  },
  {
   "cell_type": "markdown",
   "metadata": {},
   "source": [
    "Now let's contour some extreme values as a function of height and time."
   ]
  },
  {
   "cell_type": "code",
   "execution_count": null,
   "metadata": {
    "collapsed": false
   },
   "outputs": [],
   "source": [
    "plt.figure(figsize=(11,8.5))\n",
    "plt.contourf(w_ctl.XTIME.values,np.arange(0.,20.25,.25),np.amax(w_ctl.values,axis=2).transpose(),levels=np.arange(0,43.,5))\n",
    "plt.colorbar()\n",
    "plt.contour(w_ctl.XTIME.values,np.arange(0.,20.25,.25),np.amin(w_ctl.values,axis=2).transpose(),levels=[-10,-5,-1])\n"
   ]
  },
  {
   "cell_type": "code",
   "execution_count": null,
   "metadata": {
    "collapsed": false
   },
   "outputs": [],
   "source": [
    "plt.figure(figsize=(11,8.5))\n",
    "plt.pcolormesh(w_ctl.XTIME.values,np.arange(0.,20.25,.25),np.amax(w_ctl.values,axis=2).transpose())\n",
    "plt.colorbar()"
   ]
  },
  {
   "cell_type": "code",
   "execution_count": null,
   "metadata": {
    "collapsed": false
   },
   "outputs": [],
   "source": [
    "hydro_ctl=(dataset_ctl['QRAIN']+dataset_ctl['QGRAUP']+dataset_ctl['QSNOW']).mean(dim=['south_north'], keep_attrs=True)\n",
    "print(np.shape(hydro_ctl))\n",
    "plt.figure(figsize=(11,8.5))\n",
    "plt.contourf(hydro_ctl.XTIME.values,np.arange(0.,20.,.25),np.amax(hydro_ctl.values,axis=2).transpose())\n",
    "plt.colorbar()\n"
   ]
  },
  {
   "cell_type": "code",
   "execution_count": null,
   "metadata": {
    "collapsed": true
   },
   "outputs": [],
   "source": []
  }
 ],
 "metadata": {
  "kernelspec": {
   "display_name": "Python 2",
   "language": "python",
   "name": "python2"
  },
  "language_info": {
   "codemirror_mode": {
    "name": "ipython",
    "version": 2
   },
   "file_extension": ".py",
   "mimetype": "text/x-python",
   "name": "python",
   "nbconvert_exporter": "python",
   "pygments_lexer": "ipython2",
   "version": "2.7.11"
  }
 },
 "nbformat": 4,
 "nbformat_minor": 0
}
