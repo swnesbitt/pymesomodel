{
 "cells": [
  {
   "cell_type": "markdown",
   "metadata": {},
   "source": [
    "# Object analysis with python"
   ]
  },
  {
   "cell_type": "markdown",
   "metadata": {},
   "source": [
    "### Introduction\n",
    "\n",
    "It can be useful to identify objects in observational or model data, for tracking, classification, and quantification.  This notebook will illustrate how to work with these objects in python.\n"
   ]
  },
  {
   "cell_type": "code",
   "execution_count": 2,
   "metadata": {
    "collapsed": false
   },
   "outputs": [
    {
     "name": "stdout",
     "output_type": "stream",
     "text": [
      "Populating the interactive namespace from numpy and matplotlib\n"
     ]
    }
   ],
   "source": [
    "%pylab inline\n",
    "import xarray as xr\n",
    "\n",
    "dataset_ctl = xr.open_dataset(\"/oasis/scratch/snesbitt/temp_project/WRFV3/test/em_q_250m/wrfout_d01_0001-01-01_00:00:00\")\n"
   ]
  },
  {
   "cell_type": "markdown",
   "metadata": {},
   "source": [
    "Let's analyze the properties of the updrafts at time=5 (when the first cell becomes mature)."
   ]
  },
  {
   "cell_type": "code",
   "execution_count": 3,
   "metadata": {
    "collapsed": false,
    "scrolled": false
   },
   "outputs": [
    {
     "data": {
      "text/plain": [
       "<xarray.DataArray 'W' (bottom_top_stag: 81, south_north: 503, west_east: 503)>\n",
       "[20493729 values with dtype=float32]\n",
       "Coordinates:\n",
       "    XLAT             (south_north, west_east) float32 0.0 0.0 0.0 0.0 0.0 ...\n",
       "    XLONG            (south_north, west_east) float32 0.0 0.0 0.0 0.0 0.0 ...\n",
       "    XTIME            datetime64[ns] 2001-01-01T01:40:00.000480\n",
       "    Time             int64 20\n",
       "  * bottom_top_stag  (bottom_top_stag) int64 0 1 2 3 4 5 6 7 8 9 10 11 12 13 ...\n",
       "  * south_north      (south_north) int64 0 1 2 3 4 5 6 7 8 9 10 11 12 13 14 ...\n",
       "  * west_east        (west_east) int64 0 1 2 3 4 5 6 7 8 9 10 11 12 13 14 15 ...\n",
       "Attributes:\n",
       "    FieldType: 104\n",
       "    MemoryOrder: XYZ\n",
       "    description: z-wind component\n",
       "    units: m s-1\n",
       "    stagger: Z"
      ]
     },
     "execution_count": 3,
     "metadata": {},
     "output_type": "execute_result"
    }
   ],
   "source": [
    "dataset_t5_w=dataset_ctl['W'].isel(Time=20)\n",
    "dataset_t5_w"
   ]
  },
  {
   "cell_type": "markdown",
   "metadata": {},
   "source": [
    "We can use the function `where` in `numpy` to create an array which thresholds on a value.  Let's find the points where w > 1 m/s."
   ]
  },
  {
   "cell_type": "code",
   "execution_count": 4,
   "metadata": {
    "collapsed": false
   },
   "outputs": [
    {
     "data": {
      "text/plain": [
       "array([[[ 0.,  0.,  0., ...,  0.,  0.,  0.],\n",
       "        [ 0.,  0.,  0., ...,  0.,  0.,  0.],\n",
       "        [ 0.,  0.,  0., ...,  0.,  0.,  0.],\n",
       "        ..., \n",
       "        [ 0.,  0.,  0., ...,  0.,  0.,  0.],\n",
       "        [ 0.,  0.,  0., ...,  0.,  0.,  0.],\n",
       "        [ 0.,  0.,  0., ...,  0.,  0.,  0.]],\n",
       "\n",
       "       [[ 0.,  0.,  0., ...,  0.,  0.,  0.],\n",
       "        [ 0.,  0.,  0., ...,  0.,  0.,  0.],\n",
       "        [ 0.,  0.,  0., ...,  0.,  0.,  0.],\n",
       "        ..., \n",
       "        [ 0.,  0.,  0., ...,  0.,  0.,  0.],\n",
       "        [ 0.,  0.,  0., ...,  0.,  0.,  0.],\n",
       "        [ 0.,  0.,  0., ...,  0.,  0.,  0.]],\n",
       "\n",
       "       [[ 0.,  0.,  0., ...,  0.,  0.,  0.],\n",
       "        [ 0.,  0.,  0., ...,  0.,  0.,  0.],\n",
       "        [ 0.,  0.,  0., ...,  0.,  0.,  0.],\n",
       "        ..., \n",
       "        [ 0.,  0.,  0., ...,  0.,  0.,  0.],\n",
       "        [ 0.,  0.,  0., ...,  0.,  0.,  0.],\n",
       "        [ 0.,  0.,  0., ...,  0.,  0.,  0.]],\n",
       "\n",
       "       ..., \n",
       "       [[ 0.,  0.,  0., ...,  0.,  0.,  0.],\n",
       "        [ 0.,  0.,  0., ...,  0.,  0.,  0.],\n",
       "        [ 0.,  0.,  0., ...,  0.,  0.,  0.],\n",
       "        ..., \n",
       "        [ 0.,  0.,  0., ...,  0.,  0.,  0.],\n",
       "        [ 0.,  0.,  0., ...,  0.,  0.,  0.],\n",
       "        [ 0.,  0.,  0., ...,  0.,  0.,  0.]],\n",
       "\n",
       "       [[ 0.,  0.,  0., ...,  0.,  0.,  0.],\n",
       "        [ 0.,  0.,  0., ...,  0.,  0.,  0.],\n",
       "        [ 0.,  0.,  0., ...,  0.,  0.,  0.],\n",
       "        ..., \n",
       "        [ 0.,  0.,  0., ...,  0.,  0.,  0.],\n",
       "        [ 0.,  0.,  0., ...,  0.,  0.,  0.],\n",
       "        [ 0.,  0.,  0., ...,  0.,  0.,  0.]],\n",
       "\n",
       "       [[ 0.,  0.,  0., ...,  0.,  0.,  0.],\n",
       "        [ 0.,  0.,  0., ...,  0.,  0.,  0.],\n",
       "        [ 0.,  0.,  0., ...,  0.,  0.,  0.],\n",
       "        ..., \n",
       "        [ 0.,  0.,  0., ...,  0.,  0.,  0.],\n",
       "        [ 0.,  0.,  0., ...,  0.,  0.,  0.],\n",
       "        [ 0.,  0.,  0., ...,  0.,  0.,  0.]]])"
      ]
     },
     "execution_count": 4,
     "metadata": {},
     "output_type": "execute_result"
    }
   ],
   "source": [
    "updraft_pts=np.where(dataset_t5_w.values >= 1.,1.,0.)\n",
    "updraft_pts"
   ]
  },
  {
   "cell_type": "markdown",
   "metadata": {},
   "source": [
    "Let's take a look."
   ]
  },
  {
   "cell_type": "code",
   "execution_count": 5,
   "metadata": {
    "collapsed": false
   },
   "outputs": [
    {
     "data": {
      "text/plain": [
       "<matplotlib.colorbar.Colorbar at 0x2b764feb6ed0>"
      ]
     },
     "execution_count": 5,
     "metadata": {},
     "output_type": "execute_result"
    },
    {
     "data": {
      "image/png": "[encoded data removed]",
      "text/plain": [
       "<matplotlib.figure.Figure at 0x2b764d77dbd0>"
      ]
     },
     "metadata": {},
     "output_type": "display_data"
    }
   ],
   "source": [
    "fig = plt.figure()\n",
    "ax0 = fig.add_subplot(121)\n",
    "\n",
    "plt.pcolormesh(dataset_t5_w.values[20,:,:])\n",
    "plt.colorbar()\n",
    "\n",
    "ax1 = fig.add_subplot(122)\n",
    "\n",
    "plt.pcolormesh(updraft_pts[20,:,:])\n",
    "plt.colorbar()\n"
   ]
  },
  {
   "cell_type": "markdown",
   "metadata": {},
   "source": [
    "Now let's group the objects into regions in 3-D.  We could do this in 2-D as well by looping over each height also.  `s` is set up to be the filter to search for connected points."
   ]
  },
  {
   "cell_type": "code",
   "execution_count": 7,
   "metadata": {
    "collapsed": false
   },
   "outputs": [
    {
     "data": {
      "text/plain": [
       "array([[[0, 0, 0, ..., 0, 0, 0],\n",
       "        [0, 0, 0, ..., 0, 0, 0],\n",
       "        [0, 0, 0, ..., 0, 0, 0],\n",
       "        ..., \n",
       "        [0, 0, 0, ..., 0, 0, 0],\n",
       "        [0, 0, 0, ..., 0, 0, 0],\n",
       "        [0, 0, 0, ..., 0, 0, 0]],\n",
       "\n",
       "       [[0, 0, 0, ..., 0, 0, 0],\n",
       "        [0, 0, 0, ..., 0, 0, 0],\n",
       "        [0, 0, 0, ..., 0, 0, 0],\n",
       "        ..., \n",
       "        [0, 0, 0, ..., 0, 0, 0],\n",
       "        [0, 0, 0, ..., 0, 0, 0],\n",
       "        [0, 0, 0, ..., 0, 0, 0]],\n",
       "\n",
       "       [[0, 0, 0, ..., 0, 0, 0],\n",
       "        [0, 0, 0, ..., 0, 0, 0],\n",
       "        [0, 0, 0, ..., 0, 0, 0],\n",
       "        ..., \n",
       "        [0, 0, 0, ..., 0, 0, 0],\n",
       "        [0, 0, 0, ..., 0, 0, 0],\n",
       "        [0, 0, 0, ..., 0, 0, 0]],\n",
       "\n",
       "       ..., \n",
       "       [[0, 0, 0, ..., 0, 0, 0],\n",
       "        [0, 0, 0, ..., 0, 0, 0],\n",
       "        [0, 0, 0, ..., 0, 0, 0],\n",
       "        ..., \n",
       "        [0, 0, 0, ..., 0, 0, 0],\n",
       "        [0, 0, 0, ..., 0, 0, 0],\n",
       "        [0, 0, 0, ..., 0, 0, 0]],\n",
       "\n",
       "       [[0, 0, 0, ..., 0, 0, 0],\n",
       "        [0, 0, 0, ..., 0, 0, 0],\n",
       "        [0, 0, 0, ..., 0, 0, 0],\n",
       "        ..., \n",
       "        [0, 0, 0, ..., 0, 0, 0],\n",
       "        [0, 0, 0, ..., 0, 0, 0],\n",
       "        [0, 0, 0, ..., 0, 0, 0]],\n",
       "\n",
       "       [[0, 0, 0, ..., 0, 0, 0],\n",
       "        [0, 0, 0, ..., 0, 0, 0],\n",
       "        [0, 0, 0, ..., 0, 0, 0],\n",
       "        ..., \n",
       "        [0, 0, 0, ..., 0, 0, 0],\n",
       "        [0, 0, 0, ..., 0, 0, 0],\n",
       "        [0, 0, 0, ..., 0, 0, 0]]], dtype=int32)"
      ]
     },
     "execution_count": 7,
     "metadata": {},
     "output_type": "execute_result"
    }
   ],
   "source": [
    "from scipy.ndimage import label, generate_binary_structure\n",
    "s = generate_binary_structure(3,3)\n",
    "updraft_labels,nfeat=label(updraft_pts,s)\n",
    "updraft_labels"
   ]
  },
  {
   "cell_type": "markdown",
   "metadata": {},
   "source": [
    "Let's take a look."
   ]
  },
  {
   "cell_type": "code",
   "execution_count": 8,
   "metadata": {
    "collapsed": false
   },
   "outputs": [
    {
     "data": {
      "text/plain": [
       "<matplotlib.colorbar.Colorbar at 0x2b768780bf50>"
      ]
     },
     "execution_count": 8,
     "metadata": {},
     "output_type": "execute_result"
    },
    {
     "data": {
      "image/png": "[encoded data removed]",
      "text/plain": [
       "<matplotlib.figure.Figure at 0x2b7681b18590>"
      ]
     },
     "metadata": {},
     "output_type": "display_data"
    }
   ],
   "source": [
    "fig = plt.figure()\n",
    "ax0 = fig.add_subplot(121)\n",
    "\n",
    "plt.pcolormesh(updraft_labels[20,:,:])\n",
    "plt.colorbar()\n",
    "\n",
    "ax1 = fig.add_subplot(122)\n",
    "\n",
    "plt.pcolormesh(updraft_pts[20,:,:])\n",
    "plt.colorbar()\n"
   ]
  },
  {
   "cell_type": "code",
   "execution_count": 9,
   "metadata": {
    "collapsed": false
   },
   "outputs": [
    {
     "name": "stdout",
     "output_type": "stream",
     "text": [
      "444\n"
     ]
    }
   ],
   "source": [
    "print(nfeat)"
   ]
  },
  {
   "cell_type": "code",
   "execution_count": 11,
   "metadata": {
    "collapsed": false
   },
   "outputs": [
    {
     "name": "stdout",
     "output_type": "stream",
     "text": [
      "(1, (3, 658))\n",
      "(2, (3, 398))\n",
      "(3, (3, 367473))\n",
      "(4, (3, 70))\n",
      "(5, (3, 391))\n",
      "(6, (3, 45))\n",
      "(7, (3, 2))\n",
      "(8, (3, 2))\n",
      "(9, (3, 4))\n",
      "(10, (3, 173))\n",
      "(11, (3, 55))\n",
      "(12, (3, 4))\n",
      "(13, (3, 217))\n",
      "(14, (3, 18))\n",
      "(15, (3, 63))\n",
      "(16, (3, 2))\n",
      "(17, (3, 180))\n",
      "(18, (3, 68))\n",
      "(19, (3, 4))\n",
      "(20, (3, 6))\n",
      "(21, (3, 9))\n",
      "(22, (3, 10))\n",
      "(23, (3, 14))\n",
      "(24, (3, 4))\n",
      "(25, (3, 11))\n",
      "(26, (3, 4))\n",
      "(27, (3, 6))\n",
      "(28, (3, 4))\n",
      "(29, (3, 113))\n",
      "(30, (3, 57))\n",
      "(31, (3, 8))\n",
      "(32, (3, 8))\n",
      "(33, (3, 51))\n",
      "(34, (3, 9))\n",
      "(35, (3, 1))\n",
      "(36, (3, 5))\n",
      "(37, (3, 12))\n",
      "(38, (3, 391))\n",
      "(39, (3, 1))\n",
      "(40, (3, 111))\n",
      "(41, (3, 3))\n",
      "(42, (3, 55))\n",
      "(43, (3, 13))\n",
      "(44, (3, 162))\n",
      "(45, (3, 3))\n",
      "(46, (3, 180))\n",
      "(47, (3, 3))\n",
      "(48, (3, 12))\n",
      "(49, (3, 220))\n",
      "(50, (3, 4))\n",
      "(51, (3, 23))\n",
      "(52, (3, 4))\n",
      "(53, (3, 179))\n",
      "(54, (3, 687))\n",
      "(55, (3, 246))\n",
      "(56, (3, 5))\n",
      "(57, (3, 55))\n",
      "(58, (3, 383))\n",
      "(59, (3, 6))\n",
      "(60, (3, 1))\n",
      "(61, (3, 13))\n",
      "(62, (3, 3))\n",
      "(63, (3, 2))\n",
      "(64, (3, 4))\n",
      "(65, (3, 3))\n",
      "(66, (3, 3))\n",
      "(67, (3, 11))\n",
      "(68, (3, 1))\n",
      "(69, (3, 12))\n",
      "(70, (3, 63))\n",
      "(71, (3, 2))\n",
      "(72, (3, 9))\n",
      "(73, (3, 427))\n",
      "(74, (3, 19))\n",
      "(75, (3, 1))\n",
      "(76, (3, 33))\n",
      "(77, (3, 27))\n",
      "(78, (3, 2))\n",
      "(79, (3, 69))\n",
      "(80, (3, 220))\n",
      "(81, (3, 5))\n",
      "(82, (3, 10))\n",
      "(83, (3, 1))\n",
      "(84, (3, 2))\n",
      "(85, (3, 1))\n",
      "(86, (3, 1))\n",
      "(87, (3, 2))\n",
      "(88, (3, 402))\n",
      "(89, (3, 80))\n",
      "(90, (3, 4))\n",
      "(91, (3, 12))\n",
      "(92, (3, 8))\n",
      "(93, (3, 8))\n",
      "(94, (3, 1))\n",
      "(95, (3, 17))\n",
      "(96, (3, 2))\n",
      "(97, (3, 3))\n",
      "(98, (3, 5))\n",
      "(99, (3, 151))\n",
      "(100, (3, 2))\n",
      "(101, (3, 1))\n",
      "(102, (3, 3))\n",
      "(103, (3, 68))\n",
      "(104, (3, 1))\n",
      "(105, (3, 10))\n",
      "(106, (3, 2))\n",
      "(107, (3, 51))\n",
      "(108, (3, 1))\n",
      "(109, (3, 5))\n",
      "(110, (3, 2))\n",
      "(111, (3, 3))\n",
      "(112, (3, 51))\n",
      "(113, (3, 9))\n",
      "(114, (3, 2))\n",
      "(115, (3, 5))\n",
      "(116, (3, 49))\n",
      "(117, (3, 4))\n",
      "(118, (3, 2))\n",
      "(119, (3, 5))\n",
      "(120, (3, 3))\n",
      "(121, (3, 1))\n",
      "(122, (3, 10))\n",
      "(123, (3, 186))\n",
      "(124, (3, 2))\n",
      "(125, (3, 4))\n",
      "(126, (3, 6))\n",
      "(127, (3, 1))\n",
      "(128, (3, 5))\n",
      "(129, (3, 3593))\n",
      "(130, (3, 4))\n",
      "(131, (3, 5227))\n",
      "(132, (3, 38))\n",
      "(133, (3, 15))\n",
      "(134, (3, 2))\n",
      "(135, (3, 27))\n",
      "(136, (3, 1))\n",
      "(137, (3, 8))\n",
      "(138, (3, 4))\n",
      "(139, (3, 1))\n",
      "(140, (3, 155))\n",
      "(141, (3, 1))\n",
      "(142, (3, 90))\n",
      "(143, (3, 7))\n",
      "(144, (3, 6))\n",
      "(145, (3, 2))\n",
      "(146, (3, 18))\n",
      "(147, (3, 2))\n",
      "(148, (3, 88))\n",
      "(149, (3, 5232))\n",
      "(150, (3, 1163))\n",
      "(151, (3, 12))\n",
      "(152, (3, 154))\n",
      "(153, (3, 117))\n",
      "(154, (3, 12))\n",
      "(155, (3, 12))\n",
      "(156, (3, 263))\n",
      "(157, (3, 243))\n",
      "(158, (3, 26))\n",
      "(159, (3, 226))\n",
      "(160, (3, 1))\n",
      "(161, (3, 16))\n",
      "(162, (3, 2))\n",
      "(163, (3, 5))\n",
      "(164, (3, 1635))\n",
      "(165, (3, 1))\n",
      "(166, (3, 2))\n",
      "(167, (3, 30))\n",
      "(168, (3, 3))\n",
      "(169, (3, 16))\n",
      "(170, (3, 1))\n",
      "(171, (3, 749))\n",
      "(172, (3, 2))\n",
      "(173, (3, 13))\n",
      "(174, (3, 18))\n",
      "(175, (3, 6))\n",
      "(176, (3, 5))\n",
      "(177, (3, 1))\n",
      "(178, (3, 1))\n",
      "(179, (3, 4))\n",
      "(180, (3, 594))\n",
      "(181, (3, 1))\n",
      "(182, (3, 3))\n",
      "(183, (3, 53))\n",
      "(184, (3, 9))\n",
      "(185, (3, 91))\n",
      "(186, (3, 43))\n",
      "(187, (3, 13))\n",
      "(188, (3, 8))\n",
      "(189, (3, 2))\n",
      "(190, (3, 1))\n",
      "(191, (3, 1))\n",
      "(192, (3, 60))\n",
      "(193, (3, 5))\n",
      "(194, (3, 83))\n",
      "(195, (3, 55))\n",
      "(196, (3, 24))\n",
      "(197, (3, 7))\n",
      "(198, (3, 2))\n",
      "(199, (3, 1))\n",
      "(200, (3, 49))\n",
      "(201, (3, 17))\n",
      "(202, (3, 3339))\n",
      "(203, (3, 2))\n",
      "(204, (3, 56))\n",
      "(205, (3, 164))\n",
      "(206, (3, 375))\n",
      "(207, (3, 14))\n",
      "(208, (3, 123))\n",
      "(209, (3, 606))\n",
      "(210, (3, 269))\n",
      "(211, (3, 2))\n",
      "(212, (3, 51))\n",
      "(213, (3, 1))\n",
      "(214, (3, 2))\n",
      "(215, (3, 14))\n",
      "(216, (3, 27))\n",
      "(217, (3, 178))\n",
      "(218, (3, 18))\n",
      "(219, (3, 104))\n",
      "(220, (3, 335))\n",
      "(221, (3, 42))\n",
      "(222, (3, 2))\n",
      "(223, (3, 1))\n",
      "(224, (3, 17))\n",
      "(225, (3, 8))\n",
      "(226, (3, 11))\n",
      "(227, (3, 12))\n",
      "(228, (3, 5))\n",
      "(229, (3, 576))\n",
      "(230, (3, 17))\n",
      "(231, (3, 1))\n",
      "(232, (3, 24))\n",
      "(233, (3, 1))\n",
      "(234, (3, 2))\n",
      "(235, (3, 25))\n",
      "(236, (3, 7))\n",
      "(237, (3, 194))\n",
      "(238, (3, 7))\n",
      "(239, (3, 7))\n",
      "(240, (3, 7))\n",
      "(241, (3, 39))\n",
      "(242, (3, 21))\n",
      "(243, (3, 140))\n",
      "(244, (3, 23))\n",
      "(245, (3, 7))\n",
      "(246, (3, 1))\n",
      "(247, (3, 40))\n",
      "(248, (3, 6))\n",
      "(249, (3, 16))\n",
      "(250, (3, 2))\n",
      "(251, (3, 178))\n",
      "(252, (3, 12))\n",
      "(253, (3, 26))\n",
      "(254, (3, 1073))\n",
      "(255, (3, 3))\n",
      "(256, (3, 3))\n",
      "(257, (3, 2))\n",
      "(258, (3, 8))\n",
      "(259, (3, 285))\n",
      "(260, (3, 5))\n",
      "(261, (3, 981))\n",
      "(262, (3, 163))\n",
      "(263, (3, 1))\n",
      "(264, (3, 1))\n",
      "(265, (3, 1))\n",
      "(266, (3, 286))\n",
      "(267, (3, 6))\n",
      "(268, (3, 1))\n",
      "(269, (3, 67))\n",
      "(270, (3, 2))\n",
      "(271, (3, 28))\n",
      "(272, (3, 8))\n",
      "(273, (3, 7))\n",
      "(274, (3, 3))\n",
      "(275, (3, 9))\n",
      "(276, (3, 35))\n",
      "(277, (3, 5))\n",
      "(278, (3, 34))\n",
      "(279, (3, 6))\n",
      "(280, (3, 123))\n",
      "(281, (3, 71))\n",
      "(282, (3, 4))\n",
      "(283, (3, 55))\n",
      "(284, (3, 12))\n",
      "(285, (3, 8))\n",
      "(286, (3, 112))\n",
      "(287, (3, 54))\n",
      "(288, (3, 1))\n",
      "(289, (3, 17))\n",
      "(290, (3, 2))\n",
      "(291, (3, 24))\n",
      "(292, (3, 2))\n",
      "(293, (3, 121))\n",
      "(294, (3, 34))\n",
      "(295, (3, 2))\n",
      "(296, (3, 1))\n",
      "(297, (3, 1))\n",
      "(298, (3, 6))\n",
      "(299, (3, 2))\n",
      "(300, (3, 64))\n",
      "(301, (3, 19))\n",
      "(302, (3, 2))\n",
      "(303, (3, 13))\n",
      "(304, (3, 21))\n",
      "(305, (3, 9))\n",
      "(306, (3, 5))\n",
      "(307, (3, 2))\n",
      "(308, (3, 2))\n",
      "(309, (3, 2))\n",
      "(310, (3, 2))\n",
      "(311, (3, 112))\n",
      "(312, (3, 1))\n",
      "(313, (3, 1))\n",
      "(314, (3, 81))\n",
      "(315, (3, 6))\n",
      "(316, (3, 17))\n",
      "(317, (3, 2))\n",
      "(318, (3, 22))\n",
      "(319, (3, 21))\n",
      "(320, (3, 2))\n",
      "(321, (3, 27))\n",
      "(322, (3, 47))\n",
      "(323, (3, 42))\n",
      "(324, (3, 106))\n",
      "(325, (3, 58))\n",
      "(326, (3, 1))\n",
      "(327, (3, 12))\n",
      "(328, (3, 6))\n",
      "(329, (3, 15))\n",
      "(330, (3, 1))\n",
      "(331, (3, 13))\n",
      "(332, (3, 2))\n",
      "(333, (3, 6))\n",
      "(334, (3, 14))\n",
      "(335, (3, 12))\n",
      "(336, (3, 4))\n",
      "(337, (3, 273))\n",
      "(338, (3, 23))\n",
      "(339, (3, 8))\n",
      "(340, (3, 39))\n",
      "(341, (3, 3))\n",
      "(342, (3, 13))\n",
      "(343, (3, 7))\n",
      "(344, (3, 2))\n",
      "(345, (3, 2))\n",
      "(346, (3, 1))\n",
      "(347, (3, 1))\n",
      "(348, (3, 3))\n",
      "(349, (3, 1))\n",
      "(350, (3, 18))\n",
      "(351, (3, 8))\n",
      "(352, (3, 3))\n",
      "(353, (3, 5))\n",
      "(354, (3, 1))\n",
      "(355, (3, 2))\n",
      "(356, (3, 443))\n",
      "(357, (3, 1))\n",
      "(358, (3, 3))\n",
      "(359, (3, 13))\n",
      "(360, (3, 1))\n",
      "(361, (3, 2))\n",
      "(362, (3, 1))\n",
      "(363, (3, 10))\n",
      "(364, (3, 362))\n",
      "(365, (3, 19))\n",
      "(366, (3, 4))\n",
      "(367, (3, 207))\n",
      "(368, (3, 6))\n",
      "(369, (3, 26))\n",
      "(370, (3, 12))\n",
      "(371, (3, 1))\n",
      "(372, (3, 1))\n",
      "(373, (3, 1))\n",
      "(374, (3, 6662))\n",
      "(375, (3, 1239))\n",
      "(376, (3, 1))\n",
      "(377, (3, 7))\n",
      "(378, (3, 3))\n",
      "(379, (3, 34))\n",
      "(380, (3, 4))\n",
      "(381, (3, 54))\n",
      "(382, (3, 14))\n",
      "(383, (3, 12))\n",
      "(384, (3, 199))\n",
      "(385, (3, 2))\n",
      "(386, (3, 7))\n",
      "(387, (3, 2))\n",
      "(388, (3, 37))\n",
      "(389, (3, 59))\n",
      "(390, (3, 79))\n",
      "(391, (3, 12))\n",
      "(392, (3, 48))\n",
      "(393, (3, 2))\n",
      "(394, (3, 1))\n",
      "(395, (3, 46))\n",
      "(396, (3, 274))\n",
      "(397, (3, 388))\n",
      "(398, (3, 109))\n",
      "(399, (3, 2))\n",
      "(400, (3, 33))\n",
      "(401, (3, 10))\n",
      "(402, (3, 36))\n",
      "(403, (3, 39))\n",
      "(404, (3, 14))\n",
      "(405, (3, 17))\n",
      "(406, (3, 9))\n",
      "(407, (3, 58))\n",
      "(408, (3, 213))\n",
      "(409, (3, 48))\n",
      "(410, (3, 11))\n",
      "(411, (3, 45))\n",
      "(412, (3, 22))\n",
      "(413, (3, 17))\n",
      "(414, (3, 5))\n",
      "(415, (3, 3))\n",
      "(416, (3, 1))\n",
      "(417, (3, 8))\n",
      "(418, (3, 12))\n",
      "(419, (3, 888))\n",
      "(420, (3, 7))\n",
      "(421, (3, 36))\n",
      "(422, (3, 1236))\n",
      "(423, (3, 9))\n",
      "(424, (3, 87))\n",
      "(425, (3, 640))\n",
      "(426, (3, 28))\n",
      "(427, (3, 15))\n",
      "(428, (3, 1))\n",
      "(429, (3, 15))\n",
      "(430, (3, 8))\n",
      "(431, (3, 53))\n",
      "(432, (3, 215))\n",
      "(433, (3, 2))\n",
      "(434, (3, 60))\n",
      "(435, (3, 1))\n",
      "(436, (3, 2))\n",
      "(437, (3, 3))\n",
      "(438, (3, 30))\n",
      "(439, (3, 1))\n",
      "(440, (3, 218))\n",
      "(441, (3, 27))\n",
      "(442, (3, 3))\n",
      "(443, (3, 54))\n"
     ]
    }
   ],
   "source": [
    "for i in np.arange(1,nfeat):\n",
    "    index_i_w=np.where(updraft_labels == i)\n",
    "    print(i,np.shape(index_i_w))"
   ]
  },
  {
   "cell_type": "code",
   "execution_count": 18,
   "metadata": {
    "collapsed": false
   },
   "outputs": [
    {
     "data": {
      "image/png": "[encoded data removed]",
      "text/plain": [
       "<matplotlib.figure.Figure at 0x2b76885c5fd0>"
      ]
     },
     "metadata": {},
     "output_type": "display_data"
    }
   ],
   "source": [
    "hist_w=plt.hist(updraft_labels.ravel(),bins=np.arange(1,nfeat))\n"
   ]
  },
  {
   "cell_type": "code",
   "execution_count": null,
   "metadata": {
    "collapsed": true
   },
   "outputs": [],
   "source": []
  }
 ],
 "metadata": {
  "kernelspec": {
   "display_name": "Python 2",
   "language": "python",
   "name": "python2"
  },
  "language_info": {
   "codemirror_mode": {
    "name": "ipython",
    "version": 2
   },
   "file_extension": ".py",
   "mimetype": "text/x-python",
   "name": "python",
   "nbconvert_exporter": "python",
   "pygments_lexer": "ipython2",
   "version": "2.7.11"
  }
 },
 "nbformat": 4,
 "nbformat_minor": 0
}
