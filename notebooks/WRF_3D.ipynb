{
 "cells": [
  {
   "cell_type": "markdown",
   "metadata": {},
   "source": [
    "# Doing #science with WRF"
   ]
  },
  {
   "cell_type": "markdown",
   "metadata": {},
   "source": [
    "### Introduction\n",
    "\n",
    "In the last exercise, we learned how to read in WRF data, and how make some basic visualizations (time series, vertical cross sections).  Now, let's actually do some science.\n",
    "\n",
    "For this exercise we will compare two WRF runs quantitatively.  In this exercise, I will use the default run that we set up last week as a control run.  It has 250 m grid spacing in all directions.  The science question that we will address is: \"What impact does higher resolution have on simulating the convection?\"  Do address this question, we will run a simulation varied resolution to see what the impacts are.  What are some hypotheses that you might test with this sort of experiment?\n",
    "\n",
    "This [paper](http://journals.ametsoc.org/doi/abs/10.1175/1520-0493%282003%29131%3C2394%3ARRFTSO%3E2.0.CO%3B2) can be used as a guide.\n",
    "\n",
    "I made some modifications to the namelist to accomplish this higher resolution run.  See\n",
    "\n",
    "`/oasis/scratch/snesbitt/temp_project/WRFV3/test/em_squall2d_x_100m`\n",
    "\n",
    "For next class, I would like you to prepare simulations at 10 km, 4 km, 1 km, 250 m (control), and 100 m *horizontal* and *vertical* grid spacing.  Keep all other physical parameterizations and timing the same.  You will have to scale the timestep from a base of 2 s at 250 m.  You will have to use the fractional time step control to perform this scaling.\n",
    "\n",
    "Take a look at the initialization code to make sure that the initial conditions work across resolutions.  The fortran code is here:\n",
    "\n",
    "`WRFV3/dyn_em/module_initialize_squall2d_x.F`\n",
    "\n",
    "---\n",
    "\n",
    "### Plot some comparisons"
   ]
  },
  {
   "cell_type": "code",
   "execution_count": 1,
   "metadata": {
    "collapsed": false
   },
   "outputs": [
    {
     "name": "stdout",
     "output_type": "stream",
     "text": [
      "Populating the interactive namespace from numpy and matplotlib\n"
     ]
    }
   ],
   "source": [
    "%pylab inline\n",
    "import xarray as xr\n",
    "\n",
    "dataset_ctl = xr.open_dataset(\"/oasis/scratch/snesbitt/temp_project/WRFV3/test/em_q_250m/wrfout_d01_0001-01-01_00:00:00\")\n"
   ]
  },
  {
   "cell_type": "markdown",
   "metadata": {},
   "source": [
    "Let's take a look at the 100 m output:"
   ]
  },
  {
   "cell_type": "code",
   "execution_count": 2,
   "metadata": {
    "collapsed": false,
    "scrolled": false
   },
   "outputs": [
    {
     "name": "stdout",
     "output_type": "stream",
     "text": [
      "<xarray.Dataset>\n",
      "Dimensions:                (Time: 25, bottom_top: 80, bottom_top_stag: 81, soil_layers_stag: 5, south_north: 503, south_north_stag: 504, west_east: 503, west_east_stag: 504)\n",
      "Coordinates:\n",
      "    XLAT                   (Time, south_north, west_east) float32 0.0 0.0 ...\n",
      "    XLONG                  (Time, south_north, west_east) float32 0.0 0.0 ...\n",
      "    XTIME                  (Time) datetime64[ns] 2001-01-01 ...\n",
      "    XLAT_U                 (Time, south_north, west_east_stag) float32 0.0 ...\n",
      "    XLONG_U                (Time, south_north, west_east_stag) float32 0.0 ...\n",
      "    XLAT_V                 (Time, south_north_stag, west_east) float32 0.0 ...\n",
      "    XLONG_V                (Time, south_north_stag, west_east) float32 0.0 ...\n",
      "  * Time                   (Time) int64 0 1 2 3 4 5 6 7 8 9 10 11 12 13 14 ...\n",
      "  * bottom_top             (bottom_top) int64 0 1 2 3 4 5 6 7 8 9 10 11 12 ...\n",
      "  * bottom_top_stag        (bottom_top_stag) int64 0 1 2 3 4 5 6 7 8 9 10 11 ...\n",
      "  * soil_layers_stag       (soil_layers_stag) int64 0 1 2 3 4\n",
      "  * south_north            (south_north) int64 0 1 2 3 4 5 6 7 8 9 10 11 12 ...\n",
      "  * south_north_stag       (south_north_stag) int64 0 1 2 3 4 5 6 7 8 9 10 ...\n",
      "  * west_east              (west_east) int64 0 1 2 3 4 5 6 7 8 9 10 11 12 13 ...\n",
      "  * west_east_stag         (west_east_stag) int64 0 1 2 3 4 5 6 7 8 9 10 11 ...\n",
      "Data variables:\n",
      "    Times                  (Time) |S19 '0001-01-01_00:00:00' ...\n",
      "    LU_INDEX               (Time, south_north, west_east) float32 0.0 0.0 ...\n",
      "    ZNU                    (Time, bottom_top) float32 0.983241 0.950239 ...\n",
      "    ZNW                    (Time, bottom_top_stag) float32 1.0 0.966482 ...\n",
      "    ZS                     (Time, soil_layers_stag) float32 0.0 0.0 0.0 0.0 ...\n",
      "    DZS                    (Time, soil_layers_stag) float32 0.0 0.0 0.0 0.0 ...\n",
      "    VAR_SSO                (Time, south_north, west_east) float32 0.0 0.0 ...\n",
      "    LAP_HGT                (Time, south_north, west_east) float32 0.0 0.0 ...\n",
      "    U                      (Time, bottom_top, south_north, west_east_stag) float32 -11.314 ...\n",
      "    V                      (Time, bottom_top, south_north_stag, west_east) float32 0.0 ...\n",
      "    W                      (Time, bottom_top_stag, south_north, west_east) float32 0.0 ...\n",
      "    PH                     (Time, bottom_top_stag, south_north, west_east) float32 0.0 ...\n",
      "    PHB                    (Time, bottom_top_stag, south_north, west_east) float32 0.0 ...\n",
      "    T                      (Time, bottom_top, south_north, west_east) float32 0.505005 ...\n",
      "    HFX_FORCE              (Time) float32 0.0 0.0 0.0 0.0 0.0 0.0 0.0 0.0 ...\n",
      "    LH_FORCE               (Time) float32 0.0 0.0 0.0 0.0 0.0 0.0 0.0 0.0 ...\n",
      "    TSK_FORCE              (Time) float32 0.0 0.0 0.0 0.0 0.0 0.0 0.0 0.0 ...\n",
      "    HFX_FORCE_TEND         (Time) float32 0.0 0.0 0.0 0.0 0.0 0.0 0.0 0.0 ...\n",
      "    LH_FORCE_TEND          (Time) float32 0.0 0.0 0.0 0.0 0.0 0.0 0.0 0.0 ...\n",
      "    TSK_FORCE_TEND         (Time) float32 0.0 0.0 0.0 0.0 0.0 0.0 0.0 0.0 ...\n",
      "    MU                     (Time, south_north, west_east) float32 -446.531 ...\n",
      "    MUB                    (Time, south_north, west_east) float32 94264.3 ...\n",
      "    NEST_POS               (Time, south_north, west_east) float32 0.0 0.0 ...\n",
      "    P                      (Time, bottom_top, south_north, west_east) float32 -14.4531 ...\n",
      "    PB                     (Time, bottom_top, south_north, west_east) float32 98398.6 ...\n",
      "    FNM                    (Time, bottom_top) float32 0.0 0.507812 0.507811 ...\n",
      "    FNP                    (Time, bottom_top) float32 0.0 0.492188 0.492189 ...\n",
      "    RDNW                   (Time, bottom_top) float32 -29.8346 -30.7817 ...\n",
      "    RDN                    (Time, bottom_top) float32 0.0 -30.3008 -31.2626 ...\n",
      "    DNW                    (Time, bottom_top) float32 -0.0335181 -0.0324868 ...\n",
      "    DN                     (Time, bottom_top) float32 0.0 -0.0330024 ...\n",
      "    CFN                    (Time) float32 1.49219 1.49219 1.49219 1.49219 ...\n",
      "    CFN1                   (Time) float32 -0.492188 -0.492188 -0.492188 ...\n",
      "    THIS_IS_AN_IDEAL_RUN   (Time) int32 1 1 1 1 1 1 1 1 1 1 1 1 1 1 1 1 1 1 ...\n",
      "    P_HYD                  (Time, bottom_top, south_north, west_east) float32 98384.2 ...\n",
      "    Q2                     (Time, south_north, west_east) float32 0.0 0.0 ...\n",
      "    T2                     (Time, south_north, west_east) float32 0.0 0.0 ...\n",
      "    TH2                    (Time, south_north, west_east) float32 0.0 0.0 ...\n",
      "    PSFC                   (Time, south_north, west_east) float32 0.0 0.0 ...\n",
      "    U10                    (Time, south_north, west_east) float32 0.0 0.0 ...\n",
      "    V10                    (Time, south_north, west_east) float32 0.0 0.0 ...\n",
      "    RDX                    (Time) float32 0.004 0.004 0.004 0.004 0.004 ...\n",
      "    RDY                    (Time) float32 0.004 0.004 0.004 0.004 0.004 ...\n",
      "    RESM                   (Time) float32 0.0 0.0 0.0 0.0 0.0 0.0 0.0 0.0 ...\n",
      "    ZETATOP                (Time) float32 0.0 0.0 0.0 0.0 0.0 0.0 0.0 0.0 ...\n",
      "    CF1                    (Time) float32 2.02356 2.02356 2.02356 2.02356 ...\n",
      "    CF2                    (Time) float32 -1.55567 -1.55567 -1.55567 ...\n",
      "    CF3                    (Time) float32 0.532117 0.532117 0.532117 ...\n",
      "    ITIMESTEP              (Time) int32 0 150 300 450 600 750 900 1050 1200 ...\n",
      "    QVAPOR                 (Time, bottom_top, south_north, west_east) float32 0.014 ...\n",
      "    QCLOUD                 (Time, bottom_top, south_north, west_east) float32 0.0 ...\n",
      "    QRAIN                  (Time, bottom_top, south_north, west_east) float32 0.0 ...\n",
      "    QICE                   (Time, bottom_top, south_north, west_east) float32 0.0 ...\n",
      "    QSNOW                  (Time, bottom_top, south_north, west_east) float32 0.0 ...\n",
      "    QGRAUP                 (Time, bottom_top, south_north, west_east) float32 0.0 ...\n",
      "    QNICE                  (Time, bottom_top, south_north, west_east) float32 0.0 ...\n",
      "    QNRAIN                 (Time, bottom_top, south_north, west_east) float32 0.0 ...\n",
      "    SHDMAX                 (Time, south_north, west_east) float32 0.0 0.0 ...\n",
      "    SHDMIN                 (Time, south_north, west_east) float32 0.0 0.0 ...\n",
      "    SNOALB                 (Time, south_north, west_east) float32 0.0 0.0 ...\n",
      "    TSLB                   (Time, soil_layers_stag, south_north, west_east) float32 0.0 ...\n",
      "    SMOIS                  (Time, soil_layers_stag, south_north, west_east) float32 0.0 ...\n",
      "    SH2O                   (Time, soil_layers_stag, south_north, west_east) float32 0.0 ...\n",
      "    SEAICE                 (Time, south_north, west_east) float32 0.0 0.0 ...\n",
      "    XICEM                  (Time, south_north, west_east) float32 0.0 0.0 ...\n",
      "    SFROFF                 (Time, south_north, west_east) float32 0.0 0.0 ...\n",
      "    UDROFF                 (Time, south_north, west_east) float32 0.0 0.0 ...\n",
      "    IVGTYP                 (Time, south_north, west_east) int32 0 0 0 0 0 0 ...\n",
      "    ISLTYP                 (Time, south_north, west_east) int32 0 0 0 0 0 0 ...\n",
      "    VEGFRA                 (Time, south_north, west_east) float32 0.0 0.0 ...\n",
      "    GRDFLX                 (Time, south_north, west_east) float32 0.0 0.0 ...\n",
      "    ACGRDFLX               (Time, south_north, west_east) float32 0.0 0.0 ...\n",
      "    ACSNOM                 (Time, south_north, west_east) float32 0.0 0.0 ...\n",
      "    SNOW                   (Time, south_north, west_east) float32 0.0 0.0 ...\n",
      "    SNOWH                  (Time, south_north, west_east) float32 0.0 0.0 ...\n",
      "    CANWAT                 (Time, south_north, west_east) float32 0.0 0.0 ...\n",
      "    SSTSK                  (Time, south_north, west_east) float32 0.0 0.0 ...\n",
      "    COSZEN                 (Time, south_north, west_east) float32 0.0 0.0 ...\n",
      "    LAI                    (Time, south_north, west_east) float32 0.0 0.0 ...\n",
      "    VAR                    (Time, south_north, west_east) float32 0.0 0.0 ...\n",
      "    MAPFAC_M               (Time, south_north, west_east) float32 0.0 0.0 ...\n",
      "    MAPFAC_U               (Time, south_north, west_east_stag) float32 0.0 ...\n",
      "    MAPFAC_V               (Time, south_north_stag, west_east) float32 0.0 ...\n",
      "    MAPFAC_MX              (Time, south_north, west_east) float32 1.0 1.0 ...\n",
      "    MAPFAC_MY              (Time, south_north, west_east) float32 1.0 1.0 ...\n",
      "    MAPFAC_UX              (Time, south_north, west_east_stag) float32 1.0 ...\n",
      "    MAPFAC_UY              (Time, south_north, west_east_stag) float32 1.0 ...\n",
      "    MAPFAC_VX              (Time, south_north_stag, west_east) float32 1.0 ...\n",
      "    MF_VX_INV              (Time, south_north_stag, west_east) float32 1.0 ...\n",
      "    MAPFAC_VY              (Time, south_north_stag, west_east) float32 1.0 ...\n",
      "    F                      (Time, south_north, west_east) float32 0.0 0.0 ...\n",
      "    E                      (Time, south_north, west_east) float32 0.0 0.0 ...\n",
      "    SINALPHA               (Time, south_north, west_east) float32 0.0 0.0 ...\n",
      "    COSALPHA               (Time, south_north, west_east) float32 1.0 1.0 ...\n",
      "    HGT                    (Time, south_north, west_east) float32 0.0 0.0 ...\n",
      "    TSK                    (Time, south_north, west_east) float32 300.612 ...\n",
      "    P_TOP                  (Time) float32 5714.08 5714.08 5714.08 5714.08 ...\n",
      "    T00                    (Time) float32 0.0 0.0 0.0 0.0 0.0 0.0 0.0 0.0 ...\n",
      "    P00                    (Time) float32 0.0 0.0 0.0 0.0 0.0 0.0 0.0 0.0 ...\n",
      "    TLP                    (Time) float32 0.0 0.0 0.0 0.0 0.0 0.0 0.0 0.0 ...\n",
      "    TISO                   (Time) float32 0.0 0.0 0.0 0.0 0.0 0.0 0.0 0.0 ...\n",
      "    TLP_STRAT              (Time) float32 0.0 0.0 0.0 0.0 0.0 0.0 0.0 0.0 ...\n",
      "    P_STRAT                (Time) float32 0.0 0.0 0.0 0.0 0.0 0.0 0.0 0.0 ...\n",
      "    MAX_MSTFX              (Time) float32 0.0 0.0 0.0 0.0 0.0 0.0 0.0 0.0 ...\n",
      "    MAX_MSTFY              (Time) float32 0.0 0.0 0.0 0.0 0.0 0.0 0.0 0.0 ...\n",
      "    RAINC                  (Time, south_north, west_east) float32 0.0 0.0 ...\n",
      "    RAINSH                 (Time, south_north, west_east) float32 0.0 0.0 ...\n",
      "    RAINNC                 (Time, south_north, west_east) float32 0.0 0.0 ...\n",
      "    SNOWNC                 (Time, south_north, west_east) float32 0.0 0.0 ...\n",
      "    GRAUPELNC              (Time, south_north, west_east) float32 0.0 0.0 ...\n",
      "    HAILNC                 (Time, south_north, west_east) float32 0.0 0.0 ...\n",
      "    CLDFRA                 (Time, bottom_top, south_north, west_east) float32 0.0 ...\n",
      "    SWDOWN                 (Time, south_north, west_east) float32 0.0 0.0 ...\n",
      "    GLW                    (Time, south_north, west_east) float32 0.0 0.0 ...\n",
      "    SWNORM                 (Time, south_north, west_east) float32 0.0 0.0 ...\n",
      "    OLR                    (Time, south_north, west_east) float32 0.0 0.0 ...\n",
      "    ALBEDO                 (Time, south_north, west_east) float32 0.2 0.2 ...\n",
      "    CLAT                   (Time, south_north, west_east) float32 0.0 0.0 ...\n",
      "    ALBBCK                 (Time, south_north, west_east) float32 0.2 0.2 ...\n",
      "    EMISS                  (Time, south_north, west_east) float32 0.85 0.85 ...\n",
      "    NOAHRES                (Time, south_north, west_east) float32 0.0 0.0 ...\n",
      "    TMN                    (Time, south_north, west_east) float32 300.112 ...\n",
      "    XLAND                  (Time, south_north, west_east) float32 1.0 1.0 ...\n",
      "    UST                    (Time, south_north, west_east) float32 0.0001 ...\n",
      "    PBLH                   (Time, south_north, west_east) float32 0.0 0.0 ...\n",
      "    HFX                    (Time, south_north, west_east) float32 0.0 0.0 ...\n",
      "    QFX                    (Time, south_north, west_east) float32 0.0 0.0 ...\n",
      "    LH                     (Time, south_north, west_east) float32 0.0 0.0 ...\n",
      "    ACHFX                  (Time, south_north, west_east) float32 0.0 0.0 ...\n",
      "    ACLHF                  (Time, south_north, west_east) float32 0.0 0.0 ...\n",
      "    SNOWC                  (Time, south_north, west_east) float32 0.0 0.0 ...\n",
      "    SR                     (Time, south_north, west_east) float32 0.0 0.0 ...\n",
      "    SAVE_TOPO_FROM_REAL    (Time) int32 0 0 0 0 0 0 0 0 0 0 0 0 0 0 0 0 0 0 ...\n",
      "    ISEEDARR_RAND_PERTURB  (Time, bottom_top) int32 0 0 0 0 0 0 0 0 0 0 0 0 ...\n",
      "    ISEEDARR_SPPT          (Time, bottom_top) int32 0 0 0 0 0 0 0 0 0 0 0 0 ...\n",
      "    ISEEDARR_SKEBS         (Time, bottom_top) int32 0 0 0 0 0 0 0 0 0 0 0 0 ...\n",
      "    LANDMASK               (Time, south_north, west_east) float32 0.0 0.0 ...\n",
      "    LAKEMASK               (Time, south_north, west_east) float32 0.0 0.0 ...\n",
      "    SST                    (Time, south_north, west_east) float32 0.0 0.0 ...\n",
      "    SST_INPUT              (Time, south_north, west_east) float32 0.0 0.0 ...\n",
      "Attributes:\n",
      "    TITLE:  OUTPUT FROM WRF V3.7.1 MODEL\n",
      "    START_DATE: 0001-01-01_00:00:00\n",
      "    SIMULATION_START_DATE: 0001-01-01_00:00:00\n",
      "    WEST-EAST_GRID_DIMENSION: 504\n",
      "    SOUTH-NORTH_GRID_DIMENSION: 504\n",
      "    BOTTOM-TOP_GRID_DIMENSION: 81\n",
      "    DX: 250.0\n",
      "    DY: 250.0\n",
      "    SKEBS_ON: 0\n",
      "    SPEC_BDY_FINAL_MU: 0\n",
      "    USE_Q_DIABATIC: 0\n",
      "    GRIDTYPE: C\n",
      "    DIFF_OPT: 2\n",
      "    KM_OPT: 3\n",
      "    DAMP_OPT: 2\n",
      "    DAMPCOEF: 0.003\n",
      "    KHDIF: 500.0\n",
      "    KVDIF: 500.0\n",
      "    MP_PHYSICS: 8\n",
      "    RA_LW_PHYSICS: 0\n",
      "    RA_SW_PHYSICS: 0\n",
      "    SF_SFCLAY_PHYSICS: 0\n",
      "    SF_SURFACE_PHYSICS: 0\n",
      "    BL_PBL_PHYSICS: 0\n",
      "    CU_PHYSICS: 0\n",
      "    SF_LAKE_PHYSICS: 0\n",
      "    SURFACE_INPUT_SOURCE: 1\n",
      "    SST_UPDATE: 0\n",
      "    GRID_FDDA: 0\n",
      "    GFDDA_INTERVAL_M: 0\n",
      "    GFDDA_END_H: 0\n",
      "    GRID_SFDDA: 0\n",
      "    SGFDDA_INTERVAL_M: 0\n",
      "    SGFDDA_END_H: 0\n",
      "    HYPSOMETRIC_OPT: 1\n",
      "    USE_THETA_M: 0\n",
      "    SF_URBAN_PHYSICS: 0\n",
      "    SHCU_PHYSICS: 0\n",
      "    MFSHCONV: 0\n",
      "    FEEDBACK: 1\n",
      "    SMOOTH_OPTION: 0\n",
      "    SWRAD_SCAT: 1.0\n",
      "    W_DAMPING: 0\n",
      "    DT: 2.0\n",
      "    RADT: 30.0\n",
      "    BLDT: 0.0\n",
      "    CUDT: 5.0\n",
      "    AER_OPT: 0\n",
      "    SWINT_OPT: 0\n",
      "    AER_TYPE: 1\n",
      "    AER_AOD550_OPT: 1\n",
      "    AER_ANGEXP_OPT: 1\n",
      "    AER_SSA_OPT: 1\n",
      "    AER_ASY_OPT: 1\n",
      "    AER_AOD550_VAL: 0.12\n",
      "    AER_ANGEXP_VAL: 1.3\n",
      "    AER_SSA_VAL: 1.4013e-45\n",
      "    AER_ASY_VAL: 1.4013e-45\n",
      "    MOIST_ADV_OPT: 1\n",
      "    SCALAR_ADV_OPT: 1\n",
      "    TKE_ADV_OPT: 1\n",
      "    DIFF_6TH_OPT: 0\n",
      "    DIFF_6TH_FACTOR: 0.12\n",
      "    OBS_NUDGE_OPT: 0\n",
      "    BUCKET_MM: -1.0\n",
      "    BUCKET_J: -1.0\n",
      "    PREC_ACC_DT: 0.0\n",
      "    SF_OCEAN_PHYSICS: 0\n",
      "    ISFTCFLX: 0\n",
      "    ISHALLOW: 0\n",
      "    ISFFLX: 1\n",
      "    ICLOUD: 1\n",
      "    ICLOUD_CU: 0\n",
      "    TRACER_PBLMIX: 1\n",
      "    SCALAR_PBLMIX: 0\n",
      "    YSU_TOPDOWN_PBLMIX: 0\n",
      "    GRAV_SETTLING: 0\n",
      "    DFI_OPT: 0\n",
      "    SIMULATION_INITIALIZATION_TYPE: IDEALIZED DATA\n",
      "    WEST-EAST_PATCH_START_UNSTAG: 1\n",
      "    WEST-EAST_PATCH_END_UNSTAG: 503\n",
      "    WEST-EAST_PATCH_START_STAG: 1\n",
      "    WEST-EAST_PATCH_END_STAG: 504\n",
      "    SOUTH-NORTH_PATCH_START_UNSTAG: 1\n",
      "    SOUTH-NORTH_PATCH_END_UNSTAG: 503\n",
      "    SOUTH-NORTH_PATCH_START_STAG: 1\n",
      "    SOUTH-NORTH_PATCH_END_STAG: 504\n",
      "    BOTTOM-TOP_PATCH_START_UNSTAG: 1\n",
      "    BOTTOM-TOP_PATCH_END_UNSTAG: 80\n",
      "    BOTTOM-TOP_PATCH_START_STAG: 1\n",
      "    BOTTOM-TOP_PATCH_END_STAG: 81\n",
      "    GRID_ID: 1\n",
      "    PARENT_ID: 0\n",
      "    I_PARENT_START: 0\n",
      "    J_PARENT_START: 0\n",
      "    PARENT_GRID_RATIO: 1\n",
      "    CEN_LAT: 0.0\n",
      "    CEN_LON: 0.0\n",
      "    TRUELAT1: 0.0\n",
      "    TRUELAT2: 0.0\n",
      "    MOAD_CEN_LAT: 0.0\n",
      "    STAND_LON: 0.0\n",
      "    POLE_LAT: 0.0\n",
      "    POLE_LON: 0.0\n",
      "    GMT: 0.0\n",
      "    JULYR: 0\n",
      "    JULDAY: 1\n",
      "    MAP_PROJ: 0\n",
      "    MAP_PROJ_CHAR: Cartesian\n",
      "    MMINLU: \n",
      "    NUM_LAND_CAT: 24\n",
      "    ISWATER: 0\n",
      "    ISLAKE: 0\n",
      "    ISICE: 0\n",
      "    ISURBAN: 0\n",
      "    ISOILWATER: 0\n"
     ]
    }
   ],
   "source": [
    "print(dataset_ctl)"
   ]
  },
  {
   "cell_type": "markdown",
   "metadata": {},
   "source": [
    "Let's get the total rain for each dataset:"
   ]
  },
  {
   "cell_type": "code",
   "execution_count": 3,
   "metadata": {
    "collapsed": false
   },
   "outputs": [],
   "source": [
    "total_rain_ctl = (dataset_ctl['RAINNC'].sum(dim=['south_north'], keep_attrs=True).sum(dim=['west_east'], keep_attrs=True))\n"
   ]
  },
  {
   "cell_type": "markdown",
   "metadata": {},
   "source": [
    "Plotting comparisons like this is very straightforward."
   ]
  },
  {
   "cell_type": "code",
   "execution_count": 4,
   "metadata": {
    "collapsed": false
   },
   "outputs": [
    {
     "data": {
      "text/plain": [
       "<matplotlib.text.Text at 0x2ab1d5b0cf50>"
      ]
     },
     "execution_count": 4,
     "metadata": {},
     "output_type": "execute_result"
    },
    {
     "data": {
      "image/png": "[encoded data removed]",
      "text/plain": [
       "<matplotlib.figure.Figure at 0x2ab1d59d6210>"
      ]
     },
     "metadata": {},
     "output_type": "display_data"
    }
   ],
   "source": [
    "fig = plt.figure()\n",
    "ax = fig.add_subplot(111)\n",
    "\n",
    "lines = ax.plot(total_rain_ctl.XTIME,total_rain_ctl, color='k', lw=2)\n",
    "ax.set_xlabel('time')\n",
    "ax.set_ylabel(\"Total rain ({})\".format(total_rain_ctl.units))"
   ]
  },
  {
   "cell_type": "markdown",
   "metadata": {},
   "source": [
    "It's raining more in the high resolution dataset, but there are more grid points to sum over.  We can normalize the values by dividing by the number of points in the `west_east` dimension."
   ]
  },
  {
   "cell_type": "code",
   "execution_count": 5,
   "metadata": {
    "collapsed": false
   },
   "outputs": [
    {
     "name": "stdout",
     "output_type": "stream",
     "text": [
      "(25, 503, 503)\n"
     ]
    }
   ],
   "source": [
    "#get sizes of arrays\n",
    "sz_ctl=np.shape(dataset_ctl['RAINNC'])\n",
    "print(sz_ctl)\n"
   ]
  },
  {
   "cell_type": "markdown",
   "metadata": {},
   "source": [
    "OK, let's use the float of the correct dimension to \"normalize\" for the grid dimension."
   ]
  },
  {
   "cell_type": "code",
   "execution_count": 6,
   "metadata": {
    "collapsed": false
   },
   "outputs": [
    {
     "data": {
      "text/plain": [
       "<matplotlib.text.Text at 0x2ab1db286f50>"
      ]
     },
     "execution_count": 6,
     "metadata": {},
     "output_type": "execute_result"
    },
    {
     "data": {
      "image/png": "[encoded data removed]",
      "text/plain": [
       "<matplotlib.figure.Figure at 0x2ab1daf98f50>"
      ]
     },
     "metadata": {},
     "output_type": "display_data"
    }
   ],
   "source": [
    "fig = plt.figure()\n",
    "ax = fig.add_subplot(111)\n",
    "\n",
    "lines = ax.plot(total_rain_ctl.XTIME,total_rain_ctl/float(sz_ctl[1]*sz_ctl[2]), color='k', lw=2)\n",
    "ax.set_xlabel('time')\n",
    "ax.set_ylabel(\"Rain per grid point ({})\".format(total_rain_ctl.units))"
   ]
  },
  {
   "cell_type": "markdown",
   "metadata": {},
   "source": [
    "Now let's look at the statistics of vertical velocity."
   ]
  },
  {
   "cell_type": "code",
   "execution_count": 7,
   "metadata": {
    "collapsed": false
   },
   "outputs": [
    {
     "name": "stdout",
     "output_type": "stream",
     "text": [
      "(25, 81, 503, 503)\n"
     ]
    }
   ],
   "source": [
    "w_ctl=dataset_ctl['W']\n",
    "sz=np.shape(w_ctl)\n",
    "print(sz)"
   ]
  },
  {
   "cell_type": "code",
   "execution_count": 8,
   "metadata": {
    "collapsed": false
   },
   "outputs": [
    {
     "name": "stdout",
     "output_type": "stream",
     "text": [
      "[  0.           2.76917624   8.90693855  27.18152237  57.24087143\n",
      "  61.0506134   51.78809357  47.387146    46.06273651  48.96796417\n",
      "  45.68093491  43.6304512   42.95640564  33.41207504  52.99006653\n",
      "  38.47160721  31.63401031  47.37299728  50.8098259   35.35826874\n",
      "  52.51102066  49.71798706  50.60784912  55.15204239  53.99787903]\n"
     ]
    },
    {
     "data": {
      "text/plain": [
       "<matplotlib.legend.Legend at 0x2ab1db3eef10>"
      ]
     },
     "execution_count": 8,
     "metadata": {},
     "output_type": "execute_result"
    },
    {
     "data": {
      "image/png": "[encoded data removed]",
      "text/plain": [
       "<matplotlib.figure.Figure at 0x2ab1db32b490>"
      ]
     },
     "metadata": {},
     "output_type": "display_data"
    }
   ],
   "source": [
    "#allocate array\n",
    "w_max_t=np.zeros(sz[0])\n",
    "w_min_t=np.zeros_like(w_max_t)\n",
    "w_pct75_t=np.zeros_like(w_max_t)\n",
    "w_pct25_t=np.zeros_like(w_max_t)\n",
    "\n",
    "#loop over elements\n",
    "for t in np.arange(sz[0]):\n",
    "    w_max_t[t]=np.max(w_ctl[t,:,:])\n",
    "    w_min_t[t]=np.min(w_ctl[t,:,:])\n",
    "    w_pct75_t[t]=np.percentile(w_ctl[t,:,:],75.)\n",
    "    w_pct25_t[t]=np.percentile(w_ctl[t,:,:],25.)\n",
    "    \n",
    "print(w_max_t)\n",
    "plt.figure(figsize=(10,8))\n",
    "plt.plot(w_ctl.XTIME,w_max_t)\n",
    "plt.plot(w_ctl.XTIME,w_min_t)\n",
    "plt.plot(w_ctl.XTIME,w_pct75_t)\n",
    "plt.plot(w_ctl.XTIME,w_pct25_t)\n",
    "\n",
    "plt.xlabel('Time')\n",
    "\n",
    "plt.ylabel('{0} ({1})'.format(w_ctl.description,w_ctl.units))\n",
    "plt.legend(['Max','Min','75%','25%'],loc='upper left',prop={'size':10})"
   ]
  },
  {
   "cell_type": "markdown",
   "metadata": {},
   "source": [
    "Now let's contour some extreme values as a function of height and time."
   ]
  },
  {
   "cell_type": "code",
   "execution_count": 9,
   "metadata": {
    "collapsed": false
   },
   "outputs": [
    {
     "ename": "MemoryError",
     "evalue": "",
     "output_type": "error",
     "traceback": [
      "\u001b[1;31m---------------------------------------------------------------------------\u001b[0m",
      "\u001b[1;31mMemoryError\u001b[0m                               Traceback (most recent call last)",
      "\u001b[1;32m<ipython-input-9-a064a9d86efd>\u001b[0m in \u001b[0;36m<module>\u001b[1;34m()\u001b[0m\n\u001b[0;32m      1\u001b[0m \u001b[0mplt\u001b[0m\u001b[1;33m.\u001b[0m\u001b[0mfigure\u001b[0m\u001b[1;33m(\u001b[0m\u001b[0mfigsize\u001b[0m\u001b[1;33m=\u001b[0m\u001b[1;33m(\u001b[0m\u001b[1;36m11\u001b[0m\u001b[1;33m,\u001b[0m\u001b[1;36m8.5\u001b[0m\u001b[1;33m)\u001b[0m\u001b[1;33m)\u001b[0m\u001b[1;33m\u001b[0m\u001b[0m\n\u001b[1;32m----> 2\u001b[1;33m \u001b[0mplt\u001b[0m\u001b[1;33m.\u001b[0m\u001b[0mcontourf\u001b[0m\u001b[1;33m(\u001b[0m\u001b[0mw_ctl\u001b[0m\u001b[1;33m.\u001b[0m\u001b[0mXTIME\u001b[0m\u001b[1;33m.\u001b[0m\u001b[0mvalues\u001b[0m\u001b[1;33m,\u001b[0m\u001b[0mnp\u001b[0m\u001b[1;33m.\u001b[0m\u001b[0marange\u001b[0m\u001b[1;33m(\u001b[0m\u001b[1;36m0.\u001b[0m\u001b[1;33m,\u001b[0m\u001b[1;36m20.25\u001b[0m\u001b[1;33m,\u001b[0m\u001b[1;36m.25\u001b[0m\u001b[1;33m)\u001b[0m\u001b[1;33m,\u001b[0m\u001b[0mnp\u001b[0m\u001b[1;33m.\u001b[0m\u001b[0mamax\u001b[0m\u001b[1;33m(\u001b[0m\u001b[0mw_ctl\u001b[0m\u001b[1;33m.\u001b[0m\u001b[0mvalues\u001b[0m\u001b[1;33m,\u001b[0m\u001b[0maxis\u001b[0m\u001b[1;33m=\u001b[0m\u001b[1;36m2\u001b[0m\u001b[1;33m)\u001b[0m\u001b[1;33m.\u001b[0m\u001b[0mtranspose\u001b[0m\u001b[1;33m(\u001b[0m\u001b[1;33m)\u001b[0m\u001b[1;33m,\u001b[0m\u001b[0mlevels\u001b[0m\u001b[1;33m=\u001b[0m\u001b[0mnp\u001b[0m\u001b[1;33m.\u001b[0m\u001b[0marange\u001b[0m\u001b[1;33m(\u001b[0m\u001b[1;36m0\u001b[0m\u001b[1;33m,\u001b[0m\u001b[1;36m43.\u001b[0m\u001b[1;33m,\u001b[0m\u001b[1;36m5\u001b[0m\u001b[1;33m)\u001b[0m\u001b[1;33m)\u001b[0m\u001b[1;33m\u001b[0m\u001b[0m\n\u001b[0m\u001b[0;32m      3\u001b[0m \u001b[0mplt\u001b[0m\u001b[1;33m.\u001b[0m\u001b[0mcolorbar\u001b[0m\u001b[1;33m(\u001b[0m\u001b[1;33m)\u001b[0m\u001b[1;33m\u001b[0m\u001b[0m\n\u001b[0;32m      4\u001b[0m \u001b[0mplt\u001b[0m\u001b[1;33m.\u001b[0m\u001b[0mcontour\u001b[0m\u001b[1;33m(\u001b[0m\u001b[0mw_ctl\u001b[0m\u001b[1;33m.\u001b[0m\u001b[0mXTIME\u001b[0m\u001b[1;33m.\u001b[0m\u001b[0mvalues\u001b[0m\u001b[1;33m,\u001b[0m\u001b[0mnp\u001b[0m\u001b[1;33m.\u001b[0m\u001b[0marange\u001b[0m\u001b[1;33m(\u001b[0m\u001b[1;36m0.\u001b[0m\u001b[1;33m,\u001b[0m\u001b[1;36m20.25\u001b[0m\u001b[1;33m,\u001b[0m\u001b[1;36m.25\u001b[0m\u001b[1;33m)\u001b[0m\u001b[1;33m,\u001b[0m\u001b[0mnp\u001b[0m\u001b[1;33m.\u001b[0m\u001b[0mamin\u001b[0m\u001b[1;33m(\u001b[0m\u001b[0mw_ctl\u001b[0m\u001b[1;33m.\u001b[0m\u001b[0mvalues\u001b[0m\u001b[1;33m,\u001b[0m\u001b[0maxis\u001b[0m\u001b[1;33m=\u001b[0m\u001b[1;36m2\u001b[0m\u001b[1;33m)\u001b[0m\u001b[1;33m.\u001b[0m\u001b[0mtranspose\u001b[0m\u001b[1;33m(\u001b[0m\u001b[1;33m)\u001b[0m\u001b[1;33m,\u001b[0m\u001b[0mlevels\u001b[0m\u001b[1;33m=\u001b[0m\u001b[1;33m[\u001b[0m\u001b[1;33m-\u001b[0m\u001b[1;36m10\u001b[0m\u001b[1;33m,\u001b[0m\u001b[1;33m-\u001b[0m\u001b[1;36m5\u001b[0m\u001b[1;33m,\u001b[0m\u001b[1;33m-\u001b[0m\u001b[1;36m1\u001b[0m\u001b[1;33m]\u001b[0m\u001b[1;33m)\u001b[0m\u001b[1;33m\u001b[0m\u001b[0m\n",
      "\u001b[1;32m/home/snesbitt/anaconda2/lib/python2.7/site-packages/xarray/core/dataarray.pyc\u001b[0m in \u001b[0;36mvalues\u001b[1;34m(self)\u001b[0m\n\u001b[0;32m    353\u001b[0m     \u001b[1;32mdef\u001b[0m \u001b[0mvalues\u001b[0m\u001b[1;33m(\u001b[0m\u001b[0mself\u001b[0m\u001b[1;33m)\u001b[0m\u001b[1;33m:\u001b[0m\u001b[1;33m\u001b[0m\u001b[0m\n\u001b[0;32m    354\u001b[0m         \u001b[1;34m\"\"\"The array's data as a numpy.ndarray\"\"\"\u001b[0m\u001b[1;33m\u001b[0m\u001b[0m\n\u001b[1;32m--> 355\u001b[1;33m         \u001b[1;32mreturn\u001b[0m \u001b[0mself\u001b[0m\u001b[1;33m.\u001b[0m\u001b[0mvariable\u001b[0m\u001b[1;33m.\u001b[0m\u001b[0mvalues\u001b[0m\u001b[1;33m\u001b[0m\u001b[0m\n\u001b[0m\u001b[0;32m    356\u001b[0m \u001b[1;33m\u001b[0m\u001b[0m\n\u001b[0;32m    357\u001b[0m     \u001b[1;33m@\u001b[0m\u001b[0mvalues\u001b[0m\u001b[1;33m.\u001b[0m\u001b[0msetter\u001b[0m\u001b[1;33m\u001b[0m\u001b[0m\n",
      "\u001b[1;32m/home/snesbitt/anaconda2/lib/python2.7/site-packages/xarray/core/variable.pyc\u001b[0m in \u001b[0;36mvalues\u001b[1;34m(self)\u001b[0m\n\u001b[0;32m    286\u001b[0m     \u001b[1;32mdef\u001b[0m \u001b[0mvalues\u001b[0m\u001b[1;33m(\u001b[0m\u001b[0mself\u001b[0m\u001b[1;33m)\u001b[0m\u001b[1;33m:\u001b[0m\u001b[1;33m\u001b[0m\u001b[0m\n\u001b[0;32m    287\u001b[0m         \u001b[1;34m\"\"\"The variable's data as a numpy.ndarray\"\"\"\u001b[0m\u001b[1;33m\u001b[0m\u001b[0m\n\u001b[1;32m--> 288\u001b[1;33m         \u001b[1;32mreturn\u001b[0m \u001b[0m_as_array_or_item\u001b[0m\u001b[1;33m(\u001b[0m\u001b[0mself\u001b[0m\u001b[1;33m.\u001b[0m\u001b[0m_data_cached\u001b[0m\u001b[1;33m(\u001b[0m\u001b[1;33m)\u001b[0m\u001b[1;33m)\u001b[0m\u001b[1;33m\u001b[0m\u001b[0m\n\u001b[0m\u001b[0;32m    289\u001b[0m \u001b[1;33m\u001b[0m\u001b[0m\n\u001b[0;32m    290\u001b[0m     \u001b[1;33m@\u001b[0m\u001b[0mvalues\u001b[0m\u001b[1;33m.\u001b[0m\u001b[0msetter\u001b[0m\u001b[1;33m\u001b[0m\u001b[0m\n",
      "\u001b[1;32m/home/snesbitt/anaconda2/lib/python2.7/site-packages/xarray/core/variable.pyc\u001b[0m in \u001b[0;36m_data_cached\u001b[1;34m(self)\u001b[0m\n\u001b[0;32m    252\u001b[0m     \u001b[1;32mdef\u001b[0m \u001b[0m_data_cached\u001b[0m\u001b[1;33m(\u001b[0m\u001b[0mself\u001b[0m\u001b[1;33m)\u001b[0m\u001b[1;33m:\u001b[0m\u001b[1;33m\u001b[0m\u001b[0m\n\u001b[0;32m    253\u001b[0m         \u001b[1;32mif\u001b[0m \u001b[1;32mnot\u001b[0m \u001b[0misinstance\u001b[0m\u001b[1;33m(\u001b[0m\u001b[0mself\u001b[0m\u001b[1;33m.\u001b[0m\u001b[0m_data\u001b[0m\u001b[1;33m,\u001b[0m \u001b[1;33m(\u001b[0m\u001b[0mnp\u001b[0m\u001b[1;33m.\u001b[0m\u001b[0mndarray\u001b[0m\u001b[1;33m,\u001b[0m \u001b[0mPandasIndexAdapter\u001b[0m\u001b[1;33m)\u001b[0m\u001b[1;33m)\u001b[0m\u001b[1;33m:\u001b[0m\u001b[1;33m\u001b[0m\u001b[0m\n\u001b[1;32m--> 254\u001b[1;33m             \u001b[0mself\u001b[0m\u001b[1;33m.\u001b[0m\u001b[0m_data\u001b[0m \u001b[1;33m=\u001b[0m \u001b[0mnp\u001b[0m\u001b[1;33m.\u001b[0m\u001b[0masarray\u001b[0m\u001b[1;33m(\u001b[0m\u001b[0mself\u001b[0m\u001b[1;33m.\u001b[0m\u001b[0m_data\u001b[0m\u001b[1;33m)\u001b[0m\u001b[1;33m\u001b[0m\u001b[0m\n\u001b[0m\u001b[0;32m    255\u001b[0m         \u001b[1;32mreturn\u001b[0m \u001b[0mself\u001b[0m\u001b[1;33m.\u001b[0m\u001b[0m_data\u001b[0m\u001b[1;33m\u001b[0m\u001b[0m\n\u001b[0;32m    256\u001b[0m \u001b[1;33m\u001b[0m\u001b[0m\n",
      "\u001b[1;32m/home/snesbitt/anaconda2/lib/python2.7/site-packages/numpy/core/numeric.pyc\u001b[0m in \u001b[0;36masarray\u001b[1;34m(a, dtype, order)\u001b[0m\n\u001b[0;32m    472\u001b[0m \u001b[1;33m\u001b[0m\u001b[0m\n\u001b[0;32m    473\u001b[0m     \"\"\"\n\u001b[1;32m--> 474\u001b[1;33m     \u001b[1;32mreturn\u001b[0m \u001b[0marray\u001b[0m\u001b[1;33m(\u001b[0m\u001b[0ma\u001b[0m\u001b[1;33m,\u001b[0m \u001b[0mdtype\u001b[0m\u001b[1;33m,\u001b[0m \u001b[0mcopy\u001b[0m\u001b[1;33m=\u001b[0m\u001b[0mFalse\u001b[0m\u001b[1;33m,\u001b[0m \u001b[0morder\u001b[0m\u001b[1;33m=\u001b[0m\u001b[0morder\u001b[0m\u001b[1;33m)\u001b[0m\u001b[1;33m\u001b[0m\u001b[0m\n\u001b[0m\u001b[0;32m    475\u001b[0m \u001b[1;33m\u001b[0m\u001b[0m\n\u001b[0;32m    476\u001b[0m \u001b[1;32mdef\u001b[0m \u001b[0masanyarray\u001b[0m\u001b[1;33m(\u001b[0m\u001b[0ma\u001b[0m\u001b[1;33m,\u001b[0m \u001b[0mdtype\u001b[0m\u001b[1;33m=\u001b[0m\u001b[0mNone\u001b[0m\u001b[1;33m,\u001b[0m \u001b[0morder\u001b[0m\u001b[1;33m=\u001b[0m\u001b[0mNone\u001b[0m\u001b[1;33m)\u001b[0m\u001b[1;33m:\u001b[0m\u001b[1;33m\u001b[0m\u001b[0m\n",
      "\u001b[1;32m/home/snesbitt/anaconda2/lib/python2.7/site-packages/xarray/core/indexing.pyc\u001b[0m in \u001b[0;36m__array__\u001b[1;34m(self, dtype)\u001b[0m\n\u001b[0;32m    310\u001b[0m     \u001b[1;32mdef\u001b[0m \u001b[0m__array__\u001b[0m\u001b[1;33m(\u001b[0m\u001b[0mself\u001b[0m\u001b[1;33m,\u001b[0m \u001b[0mdtype\u001b[0m\u001b[1;33m=\u001b[0m\u001b[0mNone\u001b[0m\u001b[1;33m)\u001b[0m\u001b[1;33m:\u001b[0m\u001b[1;33m\u001b[0m\u001b[0m\n\u001b[0;32m    311\u001b[0m         \u001b[0marray\u001b[0m \u001b[1;33m=\u001b[0m \u001b[0morthogonally_indexable\u001b[0m\u001b[1;33m(\u001b[0m\u001b[0mself\u001b[0m\u001b[1;33m.\u001b[0m\u001b[0marray\u001b[0m\u001b[1;33m)\u001b[0m\u001b[1;33m\u001b[0m\u001b[0m\n\u001b[1;32m--> 312\u001b[1;33m         \u001b[1;32mreturn\u001b[0m \u001b[0mnp\u001b[0m\u001b[1;33m.\u001b[0m\u001b[0masarray\u001b[0m\u001b[1;33m(\u001b[0m\u001b[0marray\u001b[0m\u001b[1;33m[\u001b[0m\u001b[0mself\u001b[0m\u001b[1;33m.\u001b[0m\u001b[0mkey\u001b[0m\u001b[1;33m]\u001b[0m\u001b[1;33m,\u001b[0m \u001b[0mdtype\u001b[0m\u001b[1;33m=\u001b[0m\u001b[0mNone\u001b[0m\u001b[1;33m)\u001b[0m\u001b[1;33m\u001b[0m\u001b[0m\n\u001b[0m\u001b[0;32m    313\u001b[0m \u001b[1;33m\u001b[0m\u001b[0m\n\u001b[0;32m    314\u001b[0m     \u001b[1;32mdef\u001b[0m \u001b[0m__getitem__\u001b[0m\u001b[1;33m(\u001b[0m\u001b[0mself\u001b[0m\u001b[1;33m,\u001b[0m \u001b[0mkey\u001b[0m\u001b[1;33m)\u001b[0m\u001b[1;33m:\u001b[0m\u001b[1;33m\u001b[0m\u001b[0m\n",
      "\u001b[1;32m/home/snesbitt/anaconda2/lib/python2.7/site-packages/numpy/core/numeric.pyc\u001b[0m in \u001b[0;36masarray\u001b[1;34m(a, dtype, order)\u001b[0m\n\u001b[0;32m    472\u001b[0m \u001b[1;33m\u001b[0m\u001b[0m\n\u001b[0;32m    473\u001b[0m     \"\"\"\n\u001b[1;32m--> 474\u001b[1;33m     \u001b[1;32mreturn\u001b[0m \u001b[0marray\u001b[0m\u001b[1;33m(\u001b[0m\u001b[0ma\u001b[0m\u001b[1;33m,\u001b[0m \u001b[0mdtype\u001b[0m\u001b[1;33m,\u001b[0m \u001b[0mcopy\u001b[0m\u001b[1;33m=\u001b[0m\u001b[0mFalse\u001b[0m\u001b[1;33m,\u001b[0m \u001b[0morder\u001b[0m\u001b[1;33m=\u001b[0m\u001b[0morder\u001b[0m\u001b[1;33m)\u001b[0m\u001b[1;33m\u001b[0m\u001b[0m\n\u001b[0m\u001b[0;32m    475\u001b[0m \u001b[1;33m\u001b[0m\u001b[0m\n\u001b[0;32m    476\u001b[0m \u001b[1;32mdef\u001b[0m \u001b[0masanyarray\u001b[0m\u001b[1;33m(\u001b[0m\u001b[0ma\u001b[0m\u001b[1;33m,\u001b[0m \u001b[0mdtype\u001b[0m\u001b[1;33m=\u001b[0m\u001b[0mNone\u001b[0m\u001b[1;33m,\u001b[0m \u001b[0morder\u001b[0m\u001b[1;33m=\u001b[0m\u001b[0mNone\u001b[0m\u001b[1;33m)\u001b[0m\u001b[1;33m:\u001b[0m\u001b[1;33m\u001b[0m\u001b[0m\n",
      "\u001b[1;32m/home/snesbitt/anaconda2/lib/python2.7/site-packages/xarray/core/indexing.pyc\u001b[0m in \u001b[0;36m__array__\u001b[1;34m(self, dtype)\u001b[0m\n\u001b[0;32m    310\u001b[0m     \u001b[1;32mdef\u001b[0m \u001b[0m__array__\u001b[0m\u001b[1;33m(\u001b[0m\u001b[0mself\u001b[0m\u001b[1;33m,\u001b[0m \u001b[0mdtype\u001b[0m\u001b[1;33m=\u001b[0m\u001b[0mNone\u001b[0m\u001b[1;33m)\u001b[0m\u001b[1;33m:\u001b[0m\u001b[1;33m\u001b[0m\u001b[0m\n\u001b[0;32m    311\u001b[0m         \u001b[0marray\u001b[0m \u001b[1;33m=\u001b[0m \u001b[0morthogonally_indexable\u001b[0m\u001b[1;33m(\u001b[0m\u001b[0mself\u001b[0m\u001b[1;33m.\u001b[0m\u001b[0marray\u001b[0m\u001b[1;33m)\u001b[0m\u001b[1;33m\u001b[0m\u001b[0m\n\u001b[1;32m--> 312\u001b[1;33m         \u001b[1;32mreturn\u001b[0m \u001b[0mnp\u001b[0m\u001b[1;33m.\u001b[0m\u001b[0masarray\u001b[0m\u001b[1;33m(\u001b[0m\u001b[0marray\u001b[0m\u001b[1;33m[\u001b[0m\u001b[0mself\u001b[0m\u001b[1;33m.\u001b[0m\u001b[0mkey\u001b[0m\u001b[1;33m]\u001b[0m\u001b[1;33m,\u001b[0m \u001b[0mdtype\u001b[0m\u001b[1;33m=\u001b[0m\u001b[0mNone\u001b[0m\u001b[1;33m)\u001b[0m\u001b[1;33m\u001b[0m\u001b[0m\n\u001b[0m\u001b[0;32m    313\u001b[0m \u001b[1;33m\u001b[0m\u001b[0m\n\u001b[0;32m    314\u001b[0m     \u001b[1;32mdef\u001b[0m \u001b[0m__getitem__\u001b[0m\u001b[1;33m(\u001b[0m\u001b[0mself\u001b[0m\u001b[1;33m,\u001b[0m \u001b[0mkey\u001b[0m\u001b[1;33m)\u001b[0m\u001b[1;33m:\u001b[0m\u001b[1;33m\u001b[0m\u001b[0m\n",
      "\u001b[1;32m/home/snesbitt/anaconda2/lib/python2.7/site-packages/xarray/backends/netCDF4_.pyc\u001b[0m in \u001b[0;36m__getitem__\u001b[1;34m(self, key)\u001b[0m\n\u001b[0;32m     45\u001b[0m \u001b[1;33m\u001b[0m\u001b[0m\n\u001b[0;32m     46\u001b[0m         \u001b[1;32mtry\u001b[0m\u001b[1;33m:\u001b[0m\u001b[1;33m\u001b[0m\u001b[0m\n\u001b[1;32m---> 47\u001b[1;33m             \u001b[0mdata\u001b[0m \u001b[1;33m=\u001b[0m \u001b[0mgetitem\u001b[0m\u001b[1;33m(\u001b[0m\u001b[0mself\u001b[0m\u001b[1;33m.\u001b[0m\u001b[0marray\u001b[0m\u001b[1;33m,\u001b[0m \u001b[0mkey\u001b[0m\u001b[1;33m)\u001b[0m\u001b[1;33m\u001b[0m\u001b[0m\n\u001b[0m\u001b[0;32m     48\u001b[0m         \u001b[1;32mexcept\u001b[0m \u001b[0mIndexError\u001b[0m\u001b[1;33m:\u001b[0m\u001b[1;33m\u001b[0m\u001b[0m\n\u001b[0;32m     49\u001b[0m             \u001b[1;31m# Catch IndexError in netCDF4 and return a more informative error\u001b[0m\u001b[1;33m\u001b[0m\u001b[1;33m\u001b[0m\u001b[0m\n",
      "\u001b[1;32mnetCDF4/_netCDF4.pyx\u001b[0m in \u001b[0;36mnetCDF4._netCDF4.Variable.__getitem__ (netCDF4/_netCDF4.c:36472)\u001b[1;34m()\u001b[0m\n",
      "\u001b[1;31mMemoryError\u001b[0m: "
     ]
    },
    {
     "data": {
      "text/plain": [
       "<matplotlib.figure.Figure at 0x7f4c8c328cd0>"
      ]
     },
     "metadata": {},
     "output_type": "display_data"
    }
   ],
   "source": [
    "plt.figure(figsize=(11,8.5))\n",
    "plt.contourf(w_ctl.XTIME.values,np.arange(0.,20.25,.25),np.amax(w_ctl.values,axis=2).transpose(),levels=np.arange(0,43.,5))\n",
    "plt.colorbar()\n",
    "plt.contour(w_ctl.XTIME.values,np.arange(0.,20.25,.25),np.amin(w_ctl.values,axis=2).transpose(),levels=[-10,-5,-1])\n"
   ]
  },
  {
   "cell_type": "code",
   "execution_count": null,
   "metadata": {
    "collapsed": false
   },
   "outputs": [],
   "source": [
    "plt.figure(figsize=(11,8.5))\n",
    "plt.pcolormesh(w_ctl.XTIME.values,np.arange(0.,20.25,.25),np.amax(w_ctl.values,axis=2).transpose())\n",
    "plt.colorbar()"
   ]
  },
  {
   "cell_type": "code",
   "execution_count": null,
   "metadata": {
    "collapsed": false
   },
   "outputs": [],
   "source": [
    "hydro_ctl=(dataset_ctl['QRAIN']+dataset_ctl['QGRAUP']+dataset_ctl['QSNOW']).mean(dim=['south_north'], keep_attrs=True)\n",
    "print(np.shape(hydro_ctl))\n",
    "plt.figure(figsize=(11,8.5))\n",
    "plt.contourf(hydro_ctl.XTIME.values,np.arange(0.,20.,.25),np.amax(hydro_ctl.values,axis=2).transpose())\n",
    "plt.colorbar()\n"
   ]
  },
  {
   "cell_type": "code",
   "execution_count": null,
   "metadata": {
    "collapsed": true
   },
   "outputs": [],
   "source": []
  }
 ],
 "metadata": {
  "kernelspec": {
   "display_name": "Python 2",
   "language": "python",
   "name": "python2"
  },
  "language_info": {
   "codemirror_mode": {
    "name": "ipython",
    "version": 2
   },
   "file_extension": ".py",
   "mimetype": "text/x-python",
   "name": "python",
   "nbconvert_exporter": "python",
   "pygments_lexer": "ipython2",
   "version": "2.7.11"
  }
 },
 "nbformat": 4,
 "nbformat_minor": 0
}
